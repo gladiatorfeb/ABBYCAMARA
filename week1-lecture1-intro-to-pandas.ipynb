{
  "cells": [
    {
      "cell_type": "markdown",
      "metadata": {
        "id": "zUKVr2Y4ynNt"
      },
      "source": [
        "# Section 1: Getting Started With Pandas\n",
        "\n",
        "We will begin by introducing the `Series`, `DataFrame`, and `Index` classes, which are the basic building blocks of the pandas library, and showing how to work with them. By the end of this section, you will be able to create DataFrames and perform operations on them to inspect and filter the data."
      ]
    },
    {
      "cell_type": "markdown",
      "metadata": {
        "id": "676s1O-PynNv"
      },
      "source": [
        "## Anatomy of a DataFrame\n",
        "\n",
        "A **DataFrame** is composed of one or more **Series**. The names of the **Series** form the column names, and the row labels form the **Index**."
      ]
    },
    {
      "cell_type": "code",
      "execution_count": 2,
      "metadata": {
        "id": "S5TW5M4FynNv",
        "outputId": "106be715-3176-4894-a52f-7d48a414bc54",
        "colab": {
          "base_uri": "https://localhost:8080/",
          "height": 417
        }
      },
      "outputs": [
        {
          "output_type": "execute_result",
          "data": {
            "text/plain": [
              "       name   id nametype     recclass  mass (g)  fall  \\\n",
              "0    Aachen    1    Valid           L5        21  Fell   \n",
              "1    Aarhus    2    Valid           H6       720  Fell   \n",
              "2      Abee    6    Valid          EH4    107000  Fell   \n",
              "3  Acapulco   10    Valid  Acapulcoite      1914  Fell   \n",
              "4   Achiras  370    Valid           L6       780  Fell   \n",
              "\n",
              "                     year    reclat    reclong           GeoLocation  \n",
              "0  01/01/1880 12:00:00 AM  50.77500    6.08333     (50.775, 6.08333)  \n",
              "1  01/01/1951 12:00:00 AM  56.18333   10.23333  (56.18333, 10.23333)  \n",
              "2  01/01/1952 12:00:00 AM  54.21667 -113.00000    (54.21667, -113.0)  \n",
              "3  01/01/1976 12:00:00 AM  16.88333  -99.90000     (16.88333, -99.9)  \n",
              "4  01/01/1902 12:00:00 AM -33.16667  -64.95000   (-33.16667, -64.95)  "
            ],
            "text/html": [
              "\n",
              "  <div id=\"df-eb854014-4d07-46cc-8ecf-ea04264840a8\" class=\"colab-df-container\">\n",
              "    <div>\n",
              "<style scoped>\n",
              "    .dataframe tbody tr th:only-of-type {\n",
              "        vertical-align: middle;\n",
              "    }\n",
              "\n",
              "    .dataframe tbody tr th {\n",
              "        vertical-align: top;\n",
              "    }\n",
              "\n",
              "    .dataframe thead th {\n",
              "        text-align: right;\n",
              "    }\n",
              "</style>\n",
              "<table border=\"1\" class=\"dataframe\">\n",
              "  <thead>\n",
              "    <tr style=\"text-align: right;\">\n",
              "      <th></th>\n",
              "      <th>name</th>\n",
              "      <th>id</th>\n",
              "      <th>nametype</th>\n",
              "      <th>recclass</th>\n",
              "      <th>mass (g)</th>\n",
              "      <th>fall</th>\n",
              "      <th>year</th>\n",
              "      <th>reclat</th>\n",
              "      <th>reclong</th>\n",
              "      <th>GeoLocation</th>\n",
              "    </tr>\n",
              "  </thead>\n",
              "  <tbody>\n",
              "    <tr>\n",
              "      <th>0</th>\n",
              "      <td>Aachen</td>\n",
              "      <td>1</td>\n",
              "      <td>Valid</td>\n",
              "      <td>L5</td>\n",
              "      <td>21</td>\n",
              "      <td>Fell</td>\n",
              "      <td>01/01/1880 12:00:00 AM</td>\n",
              "      <td>50.77500</td>\n",
              "      <td>6.08333</td>\n",
              "      <td>(50.775, 6.08333)</td>\n",
              "    </tr>\n",
              "    <tr>\n",
              "      <th>1</th>\n",
              "      <td>Aarhus</td>\n",
              "      <td>2</td>\n",
              "      <td>Valid</td>\n",
              "      <td>H6</td>\n",
              "      <td>720</td>\n",
              "      <td>Fell</td>\n",
              "      <td>01/01/1951 12:00:00 AM</td>\n",
              "      <td>56.18333</td>\n",
              "      <td>10.23333</td>\n",
              "      <td>(56.18333, 10.23333)</td>\n",
              "    </tr>\n",
              "    <tr>\n",
              "      <th>2</th>\n",
              "      <td>Abee</td>\n",
              "      <td>6</td>\n",
              "      <td>Valid</td>\n",
              "      <td>EH4</td>\n",
              "      <td>107000</td>\n",
              "      <td>Fell</td>\n",
              "      <td>01/01/1952 12:00:00 AM</td>\n",
              "      <td>54.21667</td>\n",
              "      <td>-113.00000</td>\n",
              "      <td>(54.21667, -113.0)</td>\n",
              "    </tr>\n",
              "    <tr>\n",
              "      <th>3</th>\n",
              "      <td>Acapulco</td>\n",
              "      <td>10</td>\n",
              "      <td>Valid</td>\n",
              "      <td>Acapulcoite</td>\n",
              "      <td>1914</td>\n",
              "      <td>Fell</td>\n",
              "      <td>01/01/1976 12:00:00 AM</td>\n",
              "      <td>16.88333</td>\n",
              "      <td>-99.90000</td>\n",
              "      <td>(16.88333, -99.9)</td>\n",
              "    </tr>\n",
              "    <tr>\n",
              "      <th>4</th>\n",
              "      <td>Achiras</td>\n",
              "      <td>370</td>\n",
              "      <td>Valid</td>\n",
              "      <td>L6</td>\n",
              "      <td>780</td>\n",
              "      <td>Fell</td>\n",
              "      <td>01/01/1902 12:00:00 AM</td>\n",
              "      <td>-33.16667</td>\n",
              "      <td>-64.95000</td>\n",
              "      <td>(-33.16667, -64.95)</td>\n",
              "    </tr>\n",
              "  </tbody>\n",
              "</table>\n",
              "</div>\n",
              "    <div class=\"colab-df-buttons\">\n",
              "\n",
              "  <div class=\"colab-df-container\">\n",
              "    <button class=\"colab-df-convert\" onclick=\"convertToInteractive('df-eb854014-4d07-46cc-8ecf-ea04264840a8')\"\n",
              "            title=\"Convert this dataframe to an interactive table.\"\n",
              "            style=\"display:none;\">\n",
              "\n",
              "  <svg xmlns=\"http://www.w3.org/2000/svg\" height=\"24px\" viewBox=\"0 -960 960 960\">\n",
              "    <path d=\"M120-120v-720h720v720H120Zm60-500h600v-160H180v160Zm220 220h160v-160H400v160Zm0 220h160v-160H400v160ZM180-400h160v-160H180v160Zm440 0h160v-160H620v160ZM180-180h160v-160H180v160Zm440 0h160v-160H620v160Z\"/>\n",
              "  </svg>\n",
              "    </button>\n",
              "\n",
              "  <style>\n",
              "    .colab-df-container {\n",
              "      display:flex;\n",
              "      gap: 12px;\n",
              "    }\n",
              "\n",
              "    .colab-df-convert {\n",
              "      background-color: #E8F0FE;\n",
              "      border: none;\n",
              "      border-radius: 50%;\n",
              "      cursor: pointer;\n",
              "      display: none;\n",
              "      fill: #1967D2;\n",
              "      height: 32px;\n",
              "      padding: 0 0 0 0;\n",
              "      width: 32px;\n",
              "    }\n",
              "\n",
              "    .colab-df-convert:hover {\n",
              "      background-color: #E2EBFA;\n",
              "      box-shadow: 0px 1px 2px rgba(60, 64, 67, 0.3), 0px 1px 3px 1px rgba(60, 64, 67, 0.15);\n",
              "      fill: #174EA6;\n",
              "    }\n",
              "\n",
              "    .colab-df-buttons div {\n",
              "      margin-bottom: 4px;\n",
              "    }\n",
              "\n",
              "    [theme=dark] .colab-df-convert {\n",
              "      background-color: #3B4455;\n",
              "      fill: #D2E3FC;\n",
              "    }\n",
              "\n",
              "    [theme=dark] .colab-df-convert:hover {\n",
              "      background-color: #434B5C;\n",
              "      box-shadow: 0px 1px 3px 1px rgba(0, 0, 0, 0.15);\n",
              "      filter: drop-shadow(0px 1px 2px rgba(0, 0, 0, 0.3));\n",
              "      fill: #FFFFFF;\n",
              "    }\n",
              "  </style>\n",
              "\n",
              "    <script>\n",
              "      const buttonEl =\n",
              "        document.querySelector('#df-eb854014-4d07-46cc-8ecf-ea04264840a8 button.colab-df-convert');\n",
              "      buttonEl.style.display =\n",
              "        google.colab.kernel.accessAllowed ? 'block' : 'none';\n",
              "\n",
              "      async function convertToInteractive(key) {\n",
              "        const element = document.querySelector('#df-eb854014-4d07-46cc-8ecf-ea04264840a8');\n",
              "        const dataTable =\n",
              "          await google.colab.kernel.invokeFunction('convertToInteractive',\n",
              "                                                    [key], {});\n",
              "        if (!dataTable) return;\n",
              "\n",
              "        const docLinkHtml = 'Like what you see? Visit the ' +\n",
              "          '<a target=\"_blank\" href=https://colab.research.google.com/notebooks/data_table.ipynb>data table notebook</a>'\n",
              "          + ' to learn more about interactive tables.';\n",
              "        element.innerHTML = '';\n",
              "        dataTable['output_type'] = 'display_data';\n",
              "        await google.colab.output.renderOutput(dataTable, element);\n",
              "        const docLink = document.createElement('div');\n",
              "        docLink.innerHTML = docLinkHtml;\n",
              "        element.appendChild(docLink);\n",
              "      }\n",
              "    </script>\n",
              "  </div>\n",
              "\n",
              "\n",
              "<div id=\"df-7361ede8-01e1-4c08-a211-fc6dd11dac6f\">\n",
              "  <button class=\"colab-df-quickchart\" onclick=\"quickchart('df-7361ede8-01e1-4c08-a211-fc6dd11dac6f')\"\n",
              "            title=\"Suggest charts.\"\n",
              "            style=\"display:none;\">\n",
              "\n",
              "<svg xmlns=\"http://www.w3.org/2000/svg\" height=\"24px\"viewBox=\"0 0 24 24\"\n",
              "     width=\"24px\">\n",
              "    <g>\n",
              "        <path d=\"M19 3H5c-1.1 0-2 .9-2 2v14c0 1.1.9 2 2 2h14c1.1 0 2-.9 2-2V5c0-1.1-.9-2-2-2zM9 17H7v-7h2v7zm4 0h-2V7h2v10zm4 0h-2v-4h2v4z\"/>\n",
              "    </g>\n",
              "</svg>\n",
              "  </button>\n",
              "\n",
              "<style>\n",
              "  .colab-df-quickchart {\n",
              "      --bg-color: #E8F0FE;\n",
              "      --fill-color: #1967D2;\n",
              "      --hover-bg-color: #E2EBFA;\n",
              "      --hover-fill-color: #174EA6;\n",
              "      --disabled-fill-color: #AAA;\n",
              "      --disabled-bg-color: #DDD;\n",
              "  }\n",
              "\n",
              "  [theme=dark] .colab-df-quickchart {\n",
              "      --bg-color: #3B4455;\n",
              "      --fill-color: #D2E3FC;\n",
              "      --hover-bg-color: #434B5C;\n",
              "      --hover-fill-color: #FFFFFF;\n",
              "      --disabled-bg-color: #3B4455;\n",
              "      --disabled-fill-color: #666;\n",
              "  }\n",
              "\n",
              "  .colab-df-quickchart {\n",
              "    background-color: var(--bg-color);\n",
              "    border: none;\n",
              "    border-radius: 50%;\n",
              "    cursor: pointer;\n",
              "    display: none;\n",
              "    fill: var(--fill-color);\n",
              "    height: 32px;\n",
              "    padding: 0;\n",
              "    width: 32px;\n",
              "  }\n",
              "\n",
              "  .colab-df-quickchart:hover {\n",
              "    background-color: var(--hover-bg-color);\n",
              "    box-shadow: 0 1px 2px rgba(60, 64, 67, 0.3), 0 1px 3px 1px rgba(60, 64, 67, 0.15);\n",
              "    fill: var(--button-hover-fill-color);\n",
              "  }\n",
              "\n",
              "  .colab-df-quickchart-complete:disabled,\n",
              "  .colab-df-quickchart-complete:disabled:hover {\n",
              "    background-color: var(--disabled-bg-color);\n",
              "    fill: var(--disabled-fill-color);\n",
              "    box-shadow: none;\n",
              "  }\n",
              "\n",
              "  .colab-df-spinner {\n",
              "    border: 2px solid var(--fill-color);\n",
              "    border-color: transparent;\n",
              "    border-bottom-color: var(--fill-color);\n",
              "    animation:\n",
              "      spin 1s steps(1) infinite;\n",
              "  }\n",
              "\n",
              "  @keyframes spin {\n",
              "    0% {\n",
              "      border-color: transparent;\n",
              "      border-bottom-color: var(--fill-color);\n",
              "      border-left-color: var(--fill-color);\n",
              "    }\n",
              "    20% {\n",
              "      border-color: transparent;\n",
              "      border-left-color: var(--fill-color);\n",
              "      border-top-color: var(--fill-color);\n",
              "    }\n",
              "    30% {\n",
              "      border-color: transparent;\n",
              "      border-left-color: var(--fill-color);\n",
              "      border-top-color: var(--fill-color);\n",
              "      border-right-color: var(--fill-color);\n",
              "    }\n",
              "    40% {\n",
              "      border-color: transparent;\n",
              "      border-right-color: var(--fill-color);\n",
              "      border-top-color: var(--fill-color);\n",
              "    }\n",
              "    60% {\n",
              "      border-color: transparent;\n",
              "      border-right-color: var(--fill-color);\n",
              "    }\n",
              "    80% {\n",
              "      border-color: transparent;\n",
              "      border-right-color: var(--fill-color);\n",
              "      border-bottom-color: var(--fill-color);\n",
              "    }\n",
              "    90% {\n",
              "      border-color: transparent;\n",
              "      border-bottom-color: var(--fill-color);\n",
              "    }\n",
              "  }\n",
              "</style>\n",
              "\n",
              "  <script>\n",
              "    async function quickchart(key) {\n",
              "      const quickchartButtonEl =\n",
              "        document.querySelector('#' + key + ' button');\n",
              "      quickchartButtonEl.disabled = true;  // To prevent multiple clicks.\n",
              "      quickchartButtonEl.classList.add('colab-df-spinner');\n",
              "      try {\n",
              "        const charts = await google.colab.kernel.invokeFunction(\n",
              "            'suggestCharts', [key], {});\n",
              "      } catch (error) {\n",
              "        console.error('Error during call to suggestCharts:', error);\n",
              "      }\n",
              "      quickchartButtonEl.classList.remove('colab-df-spinner');\n",
              "      quickchartButtonEl.classList.add('colab-df-quickchart-complete');\n",
              "    }\n",
              "    (() => {\n",
              "      let quickchartButtonEl =\n",
              "        document.querySelector('#df-7361ede8-01e1-4c08-a211-fc6dd11dac6f button');\n",
              "      quickchartButtonEl.style.display =\n",
              "        google.colab.kernel.accessAllowed ? 'block' : 'none';\n",
              "    })();\n",
              "  </script>\n",
              "</div>\n",
              "    </div>\n",
              "  </div>\n"
            ]
          },
          "metadata": {},
          "execution_count": 2
        }
      ],
      "source": [
        "# Read 5 rows of '../data/Meteorite_Landings.csv'\n",
        "import pandas as pd\n",
        "\n",
        "meteorites= pd.read_csv('./Meteorite_Landings.csv',nrows=5)\n",
        "meteorites\n"
      ]
    },
    {
      "cell_type": "markdown",
      "metadata": {
        "id": "za59Kko3ynNw"
      },
      "source": [
        "*Source: [NASA's Open Data Portal](https://data.nasa.gov/Space-Science/Meteorite-Landings/gh4g-9sfh)*"
      ]
    },
    {
      "cell_type": "markdown",
      "metadata": {
        "id": "JpV375trynNw"
      },
      "source": [
        "#### Series:"
      ]
    },
    {
      "cell_type": "code",
      "execution_count": 10,
      "metadata": {
        "id": "3wMhJVxjynNx",
        "outputId": "1608e7c8-64cd-4f65-e17a-11978de46127",
        "colab": {
          "base_uri": "https://localhost:8080/",
          "height": 143
        }
      },
      "outputs": [
        {
          "output_type": "error",
          "ename": "SyntaxError",
          "evalue": "ignored",
          "traceback": [
            "\u001b[0;36m  File \u001b[0;32m\"<ipython-input-10-7e1189d18fb7>\"\u001b[0;36m, line \u001b[0;32m4\u001b[0m\n\u001b[0;31m    meteorites {'mass (g)'}\u001b[0m\n\u001b[0m               ^\u001b[0m\n\u001b[0;31mSyntaxError\u001b[0m\u001b[0;31m:\u001b[0m invalid syntax\n"
          ]
        }
      ],
      "source": [
        "# Meteorites name column\n",
        "meteorites.name\n",
        "meteorites.id\n",
        "meteorites {'mass (g)'}"
      ]
    },
    {
      "cell_type": "markdown",
      "metadata": {
        "id": "76nuVWLPynNx"
      },
      "source": [
        "#### Columns:"
      ]
    },
    {
      "cell_type": "code",
      "execution_count": 11,
      "metadata": {
        "id": "piK3vmfwynNy",
        "outputId": "41e485c5-1297-4416-e96d-98f655416934",
        "colab": {
          "base_uri": "https://localhost:8080/"
        }
      },
      "outputs": [
        {
          "output_type": "execute_result",
          "data": {
            "text/plain": [
              "Index(['name', 'id', 'nametype', 'recclass', 'mass (g)', 'fall', 'year',\n",
              "       'reclat', 'reclong', 'GeoLocation'],\n",
              "      dtype='object')"
            ]
          },
          "metadata": {},
          "execution_count": 11
        }
      ],
      "source": [
        "# All columns\n",
        "\n",
        "meteorites.columns"
      ]
    },
    {
      "cell_type": "markdown",
      "metadata": {
        "id": "IiHtwna3ynNy"
      },
      "source": [
        "#### Index:"
      ]
    },
    {
      "cell_type": "code",
      "execution_count": 12,
      "metadata": {
        "id": "_sDIqd-TynNy",
        "outputId": "dbb66049-4b16-45ed-b125-7252b1d39371",
        "colab": {
          "base_uri": "https://localhost:8080/"
        }
      },
      "outputs": [
        {
          "output_type": "execute_result",
          "data": {
            "text/plain": [
              "RangeIndex(start=0, stop=5, step=1)"
            ]
          },
          "metadata": {},
          "execution_count": 12
        }
      ],
      "source": [
        "# DF Index\n",
        "\n",
        "meteorites.index"
      ]
    },
    {
      "cell_type": "markdown",
      "metadata": {
        "id": "atDjIUlcynNy"
      },
      "source": [
        "## Creating DataFrames\n",
        "\n",
        "We can create DataFrames from a variety of sources such as other Python objects, flat files, webscraping, and API requests. Here, we will see just a couple of examples, but be sure to check out [this page](https://pandas.pydata.org/pandas-docs/stable/user_guide/io.html) in the documentation for a complete list."
      ]
    },
    {
      "cell_type": "markdown",
      "metadata": {
        "id": "XsPSEEK_ynNz"
      },
      "source": [
        "### Using a flat file"
      ]
    },
    {
      "cell_type": "code",
      "execution_count": 13,
      "metadata": {
        "id": "aTnQGXmZynNz"
      },
      "outputs": [],
      "source": [
        "# Read csv '../data/Meteorite_Landings.csv'\n",
        "\n",
        "meteorites= pd.read_csv('Meteorite_Landings.csv')"
      ]
    },
    {
      "cell_type": "markdown",
      "metadata": {
        "id": "WxI44I46ynNz"
      },
      "source": [
        "*Tip: There are many parameters to this function to handle some initial processing while reading in the file &ndash; be sure check out the [documentation](https://pandas.pydata.org/docs/reference/api/pandas.read_csv.html).*"
      ]
    },
    {
      "cell_type": "markdown",
      "metadata": {
        "id": "INtEl5CNynNz"
      },
      "source": [
        "### Using data from an API\n",
        "\n",
        "Collect the data from [NASA's Open Data Portal](https://data.nasa.gov/Space-Science/Meteorite-Landings/gh4g-9sfh) using the Socrata Open Data API (SODA) with the `requests` library:"
      ]
    },
    {
      "cell_type": "code",
      "execution_count": 25,
      "metadata": {
        "id": "hKaD1TuzynN0",
        "outputId": "0110e4ce-7aa5-4ed8-fdfc-baf0bb66afdf",
        "colab": {
          "base_uri": "https://localhost:8080/",
          "height": 143
        }
      },
      "outputs": [
        {
          "output_type": "error",
          "ename": "IndentationError",
          "evalue": "ignored",
          "traceback": [
            "\u001b[0;36m  File \u001b[0;32m\"<ipython-input-25-c69271b036ac>\"\u001b[0;36m, line \u001b[0;32m4\u001b[0m\n\u001b[0;31m    reponse= requests.get('https://data.nasa.gov/resource/gh4g-9sfh.json',\u001b[0m\n\u001b[0m    ^\u001b[0m\n\u001b[0;31mIndentationError\u001b[0m\u001b[0;31m:\u001b[0m unexpected indent\n"
          ]
        }
      ],
      "source": [
        "from requests.models import Response\n",
        "# Read 50k rows from 'https://data.nasa.gov/resource/gh4g-9sfh.json'\n",
        "import requests\n",
        "  reponse= requests.get('https://data.nasa.gov/resource/gh4g-9sfh.json',\n",
        "                       params= ('$limit':50_000))\n",
        "  if response.ok:\n",
        "    payload=reponse.json()\n",
        "  else\n",
        "    print(f\"Request was not successfull and returned code: {response.status_code}. \")\n",
        "    payload = None\n"
      ]
    },
    {
      "cell_type": "markdown",
      "metadata": {
        "id": "pkVDbhNhynN0"
      },
      "source": [
        "Create the DataFrame with the resulting payload:"
      ]
    },
    {
      "cell_type": "code",
      "execution_count": 26,
      "metadata": {
        "id": "Mo9pt9SVynN0",
        "outputId": "eeb04ff1-2672-482b-b095-4a82bbeb3242",
        "colab": {
          "base_uri": "https://localhost:8080/",
          "height": 214
        }
      },
      "outputs": [
        {
          "output_type": "error",
          "ename": "NameError",
          "evalue": "ignored",
          "traceback": [
            "\u001b[0;31m---------------------------------------------------------------------------\u001b[0m",
            "\u001b[0;31mNameError\u001b[0m                                 Traceback (most recent call last)",
            "\u001b[0;32m<ipython-input-26-1f7e405c48db>\u001b[0m in \u001b[0;36m<cell line: 2>\u001b[0;34m()\u001b[0m\n\u001b[1;32m      1\u001b[0m \u001b[0;31m# Convert to DF\u001b[0m\u001b[0;34m\u001b[0m\u001b[0;34m\u001b[0m\u001b[0m\n\u001b[0;32m----> 2\u001b[0;31m \u001b[0mdf\u001b[0m\u001b[0;34m=\u001b[0m \u001b[0mpd\u001b[0m\u001b[0;34m.\u001b[0m\u001b[0mDataFrame\u001b[0m\u001b[0;34m(\u001b[0m\u001b[0mpayload\u001b[0m\u001b[0;34m)\u001b[0m\u001b[0;34m\u001b[0m\u001b[0;34m\u001b[0m\u001b[0m\n\u001b[0m\u001b[1;32m      3\u001b[0m \u001b[0mdf\u001b[0m\u001b[0;34m.\u001b[0m\u001b[0mhead\u001b[0m\u001b[0;34m(\u001b[0m\u001b[0;36m3\u001b[0m\u001b[0;34m)\u001b[0m\u001b[0;34m\u001b[0m\u001b[0;34m\u001b[0m\u001b[0m\n",
            "\u001b[0;31mNameError\u001b[0m: name 'payload' is not defined"
          ]
        }
      ],
      "source": [
        "# Convert to DF\n",
        "df= pd.DataFrame(payload)\n",
        "df.head(3)\n"
      ]
    },
    {
      "cell_type": "code",
      "source": [
        "df.to_csv('my_meteorites.csv')"
      ],
      "metadata": {
        "id": "KlAZaFr-_fkK",
        "outputId": "9d4caa64-5b41-449e-9ad4-70f17b26852b",
        "colab": {
          "base_uri": "https://localhost:8080/",
          "height": 178
        }
      },
      "execution_count": 27,
      "outputs": [
        {
          "output_type": "error",
          "ename": "NameError",
          "evalue": "ignored",
          "traceback": [
            "\u001b[0;31m---------------------------------------------------------------------------\u001b[0m",
            "\u001b[0;31mNameError\u001b[0m                                 Traceback (most recent call last)",
            "\u001b[0;32m<ipython-input-27-05a9e963e16b>\u001b[0m in \u001b[0;36m<cell line: 1>\u001b[0;34m()\u001b[0m\n\u001b[0;32m----> 1\u001b[0;31m \u001b[0mdf\u001b[0m\u001b[0;34m.\u001b[0m\u001b[0mto_csv\u001b[0m\u001b[0;34m(\u001b[0m\u001b[0;34m'my_meteorites.csv'\u001b[0m\u001b[0;34m)\u001b[0m\u001b[0;34m\u001b[0m\u001b[0;34m\u001b[0m\u001b[0m\n\u001b[0m",
            "\u001b[0;31mNameError\u001b[0m: name 'df' is not defined"
          ]
        }
      ]
    },
    {
      "cell_type": "markdown",
      "metadata": {
        "id": "I8f8mjGuynN0"
      },
      "source": [
        "*Tip: `df.to_csv('data.csv')` writes this data to a new file called `data.csv`.*"
      ]
    },
    {
      "cell_type": "markdown",
      "metadata": {
        "id": "meTRAX3dynN0"
      },
      "source": [
        "## Inspecting the data\n",
        "Now that we have some data, we need to perform an initial inspection of it. This gives us information on what the data looks like, how many rows/columns there are, and how much data we have."
      ]
    },
    {
      "cell_type": "markdown",
      "metadata": {
        "id": "bigrrADaynN0"
      },
      "source": [
        "Let's inspect the `meteorites` data."
      ]
    },
    {
      "cell_type": "markdown",
      "metadata": {
        "id": "XmsNmm0rynN1"
      },
      "source": [
        "#### How many rows and columns are there?"
      ]
    },
    {
      "cell_type": "code",
      "execution_count": 28,
      "metadata": {
        "id": "8DQbyouGynN1",
        "outputId": "d1060cbf-992e-4ac2-b65e-489a75cd4024",
        "colab": {
          "base_uri": "https://localhost:8080/"
        }
      },
      "outputs": [
        {
          "output_type": "execute_result",
          "data": {
            "text/plain": [
              "(45716, 10)"
            ]
          },
          "metadata": {},
          "execution_count": 28
        }
      ],
      "source": [
        "# Shape of DF\n",
        "meteorites.shape"
      ]
    },
    {
      "cell_type": "markdown",
      "metadata": {
        "id": "ljCvgFn-ynN1"
      },
      "source": [
        "#### What are the column names?"
      ]
    },
    {
      "cell_type": "code",
      "execution_count": 29,
      "metadata": {
        "id": "Yol-_eieynN1",
        "outputId": "12628061-659a-4a5c-99ae-5a9c04a432fd",
        "colab": {
          "base_uri": "https://localhost:8080/"
        }
      },
      "outputs": [
        {
          "output_type": "execute_result",
          "data": {
            "text/plain": [
              "Index(['name', 'id', 'nametype', 'recclass', 'mass (g)', 'fall', 'year',\n",
              "       'reclat', 'reclong', 'GeoLocation'],\n",
              "      dtype='object')"
            ]
          },
          "metadata": {},
          "execution_count": 29
        }
      ],
      "source": [
        "# Column names\n",
        "meteorites.columns"
      ]
    },
    {
      "cell_type": "markdown",
      "metadata": {
        "id": "58TnwiNhynN1"
      },
      "source": [
        "#### What type of data does each column currently hold?"
      ]
    },
    {
      "cell_type": "code",
      "execution_count": 30,
      "metadata": {
        "id": "hXxQePcRynN1",
        "outputId": "7316673b-29e3-49ed-976d-7a4cd97f9164",
        "colab": {
          "base_uri": "https://localhost:8080/"
        }
      },
      "outputs": [
        {
          "output_type": "execute_result",
          "data": {
            "text/plain": [
              "name            object\n",
              "id               int64\n",
              "nametype        object\n",
              "recclass        object\n",
              "mass (g)       float64\n",
              "fall            object\n",
              "year            object\n",
              "reclat         float64\n",
              "reclong        float64\n",
              "GeoLocation     object\n",
              "dtype: object"
            ]
          },
          "metadata": {},
          "execution_count": 30
        }
      ],
      "source": [
        "# Data types\n",
        "meteorites.dtypes"
      ]
    },
    {
      "cell_type": "markdown",
      "metadata": {
        "id": "QMIqCtNLynN1"
      },
      "source": [
        "#### What does the data look like?"
      ]
    },
    {
      "cell_type": "code",
      "execution_count": 31,
      "metadata": {
        "id": "p9S3Ih4OynN2",
        "outputId": "145026eb-29ea-4a6f-e6c8-248ed5b6855e",
        "colab": {
          "base_uri": "https://localhost:8080/"
        }
      },
      "outputs": [
        {
          "output_type": "execute_result",
          "data": {
            "text/plain": [
              "<bound method NDFrame.head of              name     id nametype              recclass  mass (g)   fall  \\\n",
              "0          Aachen      1    Valid                    L5      21.0   Fell   \n",
              "1          Aarhus      2    Valid                    H6     720.0   Fell   \n",
              "2            Abee      6    Valid                   EH4  107000.0   Fell   \n",
              "3        Acapulco     10    Valid           Acapulcoite    1914.0   Fell   \n",
              "4         Achiras    370    Valid                    L6     780.0   Fell   \n",
              "...           ...    ...      ...                   ...       ...    ...   \n",
              "45711  Zillah 002  31356    Valid               Eucrite     172.0  Found   \n",
              "45712      Zinder  30409    Valid  Pallasite, ungrouped      46.0  Found   \n",
              "45713        Zlin  30410    Valid                    H4       3.3  Found   \n",
              "45714   Zubkovsky  31357    Valid                    L6    2167.0  Found   \n",
              "45715  Zulu Queen  30414    Valid                  L3.7     200.0  Found   \n",
              "\n",
              "                         year    reclat    reclong             GeoLocation  \n",
              "0      01/01/1880 12:00:00 AM  50.77500    6.08333       (50.775, 6.08333)  \n",
              "1      01/01/1951 12:00:00 AM  56.18333   10.23333    (56.18333, 10.23333)  \n",
              "2      01/01/1952 12:00:00 AM  54.21667 -113.00000      (54.21667, -113.0)  \n",
              "3      01/01/1976 12:00:00 AM  16.88333  -99.90000       (16.88333, -99.9)  \n",
              "4      01/01/1902 12:00:00 AM -33.16667  -64.95000     (-33.16667, -64.95)  \n",
              "...                       ...       ...        ...                     ...  \n",
              "45711  01/01/1990 12:00:00 AM  29.03700   17.01850       (29.037, 17.0185)  \n",
              "45712  01/01/1999 12:00:00 AM  13.78333    8.96667     (13.78333, 8.96667)  \n",
              "45713  01/01/1939 12:00:00 AM  49.25000   17.66667       (49.25, 17.66667)  \n",
              "45714  01/01/2003 12:00:00 AM  49.78917   41.50460     (49.78917, 41.5046)  \n",
              "45715  01/01/1976 12:00:00 AM  33.98333 -115.68333  (33.98333, -115.68333)  \n",
              "\n",
              "[45716 rows x 10 columns]>"
            ]
          },
          "metadata": {},
          "execution_count": 31
        }
      ],
      "source": [
        "# \"head\" of df\n",
        "\n",
        "meteorites.head"
      ]
    },
    {
      "cell_type": "markdown",
      "metadata": {
        "id": "DmdpVYx9ynN2"
      },
      "source": [
        "Sometimes there may be extraneous data at the end of the file, so checking the bottom few rows is also important:"
      ]
    },
    {
      "cell_type": "code",
      "execution_count": 33,
      "metadata": {
        "id": "OMw5OhO5ynN2",
        "outputId": "3b82936a-90a2-4ae1-e0b6-29ab972c8c59",
        "colab": {
          "base_uri": "https://localhost:8080/",
          "height": 417
        }
      },
      "outputs": [
        {
          "output_type": "execute_result",
          "data": {
            "text/plain": [
              "             name     id nametype              recclass  mass (g)   fall  \\\n",
              "45711  Zillah 002  31356    Valid               Eucrite     172.0  Found   \n",
              "45712      Zinder  30409    Valid  Pallasite, ungrouped      46.0  Found   \n",
              "45713        Zlin  30410    Valid                    H4       3.3  Found   \n",
              "45714   Zubkovsky  31357    Valid                    L6    2167.0  Found   \n",
              "45715  Zulu Queen  30414    Valid                  L3.7     200.0  Found   \n",
              "\n",
              "                         year    reclat    reclong             GeoLocation  \n",
              "45711  01/01/1990 12:00:00 AM  29.03700   17.01850       (29.037, 17.0185)  \n",
              "45712  01/01/1999 12:00:00 AM  13.78333    8.96667     (13.78333, 8.96667)  \n",
              "45713  01/01/1939 12:00:00 AM  49.25000   17.66667       (49.25, 17.66667)  \n",
              "45714  01/01/2003 12:00:00 AM  49.78917   41.50460     (49.78917, 41.5046)  \n",
              "45715  01/01/1976 12:00:00 AM  33.98333 -115.68333  (33.98333, -115.68333)  "
            ],
            "text/html": [
              "\n",
              "  <div id=\"df-b2b72ffb-f76d-4f23-a1f0-94da8574d73a\" class=\"colab-df-container\">\n",
              "    <div>\n",
              "<style scoped>\n",
              "    .dataframe tbody tr th:only-of-type {\n",
              "        vertical-align: middle;\n",
              "    }\n",
              "\n",
              "    .dataframe tbody tr th {\n",
              "        vertical-align: top;\n",
              "    }\n",
              "\n",
              "    .dataframe thead th {\n",
              "        text-align: right;\n",
              "    }\n",
              "</style>\n",
              "<table border=\"1\" class=\"dataframe\">\n",
              "  <thead>\n",
              "    <tr style=\"text-align: right;\">\n",
              "      <th></th>\n",
              "      <th>name</th>\n",
              "      <th>id</th>\n",
              "      <th>nametype</th>\n",
              "      <th>recclass</th>\n",
              "      <th>mass (g)</th>\n",
              "      <th>fall</th>\n",
              "      <th>year</th>\n",
              "      <th>reclat</th>\n",
              "      <th>reclong</th>\n",
              "      <th>GeoLocation</th>\n",
              "    </tr>\n",
              "  </thead>\n",
              "  <tbody>\n",
              "    <tr>\n",
              "      <th>45711</th>\n",
              "      <td>Zillah 002</td>\n",
              "      <td>31356</td>\n",
              "      <td>Valid</td>\n",
              "      <td>Eucrite</td>\n",
              "      <td>172.0</td>\n",
              "      <td>Found</td>\n",
              "      <td>01/01/1990 12:00:00 AM</td>\n",
              "      <td>29.03700</td>\n",
              "      <td>17.01850</td>\n",
              "      <td>(29.037, 17.0185)</td>\n",
              "    </tr>\n",
              "    <tr>\n",
              "      <th>45712</th>\n",
              "      <td>Zinder</td>\n",
              "      <td>30409</td>\n",
              "      <td>Valid</td>\n",
              "      <td>Pallasite, ungrouped</td>\n",
              "      <td>46.0</td>\n",
              "      <td>Found</td>\n",
              "      <td>01/01/1999 12:00:00 AM</td>\n",
              "      <td>13.78333</td>\n",
              "      <td>8.96667</td>\n",
              "      <td>(13.78333, 8.96667)</td>\n",
              "    </tr>\n",
              "    <tr>\n",
              "      <th>45713</th>\n",
              "      <td>Zlin</td>\n",
              "      <td>30410</td>\n",
              "      <td>Valid</td>\n",
              "      <td>H4</td>\n",
              "      <td>3.3</td>\n",
              "      <td>Found</td>\n",
              "      <td>01/01/1939 12:00:00 AM</td>\n",
              "      <td>49.25000</td>\n",
              "      <td>17.66667</td>\n",
              "      <td>(49.25, 17.66667)</td>\n",
              "    </tr>\n",
              "    <tr>\n",
              "      <th>45714</th>\n",
              "      <td>Zubkovsky</td>\n",
              "      <td>31357</td>\n",
              "      <td>Valid</td>\n",
              "      <td>L6</td>\n",
              "      <td>2167.0</td>\n",
              "      <td>Found</td>\n",
              "      <td>01/01/2003 12:00:00 AM</td>\n",
              "      <td>49.78917</td>\n",
              "      <td>41.50460</td>\n",
              "      <td>(49.78917, 41.5046)</td>\n",
              "    </tr>\n",
              "    <tr>\n",
              "      <th>45715</th>\n",
              "      <td>Zulu Queen</td>\n",
              "      <td>30414</td>\n",
              "      <td>Valid</td>\n",
              "      <td>L3.7</td>\n",
              "      <td>200.0</td>\n",
              "      <td>Found</td>\n",
              "      <td>01/01/1976 12:00:00 AM</td>\n",
              "      <td>33.98333</td>\n",
              "      <td>-115.68333</td>\n",
              "      <td>(33.98333, -115.68333)</td>\n",
              "    </tr>\n",
              "  </tbody>\n",
              "</table>\n",
              "</div>\n",
              "    <div class=\"colab-df-buttons\">\n",
              "\n",
              "  <div class=\"colab-df-container\">\n",
              "    <button class=\"colab-df-convert\" onclick=\"convertToInteractive('df-b2b72ffb-f76d-4f23-a1f0-94da8574d73a')\"\n",
              "            title=\"Convert this dataframe to an interactive table.\"\n",
              "            style=\"display:none;\">\n",
              "\n",
              "  <svg xmlns=\"http://www.w3.org/2000/svg\" height=\"24px\" viewBox=\"0 -960 960 960\">\n",
              "    <path d=\"M120-120v-720h720v720H120Zm60-500h600v-160H180v160Zm220 220h160v-160H400v160Zm0 220h160v-160H400v160ZM180-400h160v-160H180v160Zm440 0h160v-160H620v160ZM180-180h160v-160H180v160Zm440 0h160v-160H620v160Z\"/>\n",
              "  </svg>\n",
              "    </button>\n",
              "\n",
              "  <style>\n",
              "    .colab-df-container {\n",
              "      display:flex;\n",
              "      gap: 12px;\n",
              "    }\n",
              "\n",
              "    .colab-df-convert {\n",
              "      background-color: #E8F0FE;\n",
              "      border: none;\n",
              "      border-radius: 50%;\n",
              "      cursor: pointer;\n",
              "      display: none;\n",
              "      fill: #1967D2;\n",
              "      height: 32px;\n",
              "      padding: 0 0 0 0;\n",
              "      width: 32px;\n",
              "    }\n",
              "\n",
              "    .colab-df-convert:hover {\n",
              "      background-color: #E2EBFA;\n",
              "      box-shadow: 0px 1px 2px rgba(60, 64, 67, 0.3), 0px 1px 3px 1px rgba(60, 64, 67, 0.15);\n",
              "      fill: #174EA6;\n",
              "    }\n",
              "\n",
              "    .colab-df-buttons div {\n",
              "      margin-bottom: 4px;\n",
              "    }\n",
              "\n",
              "    [theme=dark] .colab-df-convert {\n",
              "      background-color: #3B4455;\n",
              "      fill: #D2E3FC;\n",
              "    }\n",
              "\n",
              "    [theme=dark] .colab-df-convert:hover {\n",
              "      background-color: #434B5C;\n",
              "      box-shadow: 0px 1px 3px 1px rgba(0, 0, 0, 0.15);\n",
              "      filter: drop-shadow(0px 1px 2px rgba(0, 0, 0, 0.3));\n",
              "      fill: #FFFFFF;\n",
              "    }\n",
              "  </style>\n",
              "\n",
              "    <script>\n",
              "      const buttonEl =\n",
              "        document.querySelector('#df-b2b72ffb-f76d-4f23-a1f0-94da8574d73a button.colab-df-convert');\n",
              "      buttonEl.style.display =\n",
              "        google.colab.kernel.accessAllowed ? 'block' : 'none';\n",
              "\n",
              "      async function convertToInteractive(key) {\n",
              "        const element = document.querySelector('#df-b2b72ffb-f76d-4f23-a1f0-94da8574d73a');\n",
              "        const dataTable =\n",
              "          await google.colab.kernel.invokeFunction('convertToInteractive',\n",
              "                                                    [key], {});\n",
              "        if (!dataTable) return;\n",
              "\n",
              "        const docLinkHtml = 'Like what you see? Visit the ' +\n",
              "          '<a target=\"_blank\" href=https://colab.research.google.com/notebooks/data_table.ipynb>data table notebook</a>'\n",
              "          + ' to learn more about interactive tables.';\n",
              "        element.innerHTML = '';\n",
              "        dataTable['output_type'] = 'display_data';\n",
              "        await google.colab.output.renderOutput(dataTable, element);\n",
              "        const docLink = document.createElement('div');\n",
              "        docLink.innerHTML = docLinkHtml;\n",
              "        element.appendChild(docLink);\n",
              "      }\n",
              "    </script>\n",
              "  </div>\n",
              "\n",
              "\n",
              "<div id=\"df-fdac6846-0597-4c47-bc53-8b968388820d\">\n",
              "  <button class=\"colab-df-quickchart\" onclick=\"quickchart('df-fdac6846-0597-4c47-bc53-8b968388820d')\"\n",
              "            title=\"Suggest charts.\"\n",
              "            style=\"display:none;\">\n",
              "\n",
              "<svg xmlns=\"http://www.w3.org/2000/svg\" height=\"24px\"viewBox=\"0 0 24 24\"\n",
              "     width=\"24px\">\n",
              "    <g>\n",
              "        <path d=\"M19 3H5c-1.1 0-2 .9-2 2v14c0 1.1.9 2 2 2h14c1.1 0 2-.9 2-2V5c0-1.1-.9-2-2-2zM9 17H7v-7h2v7zm4 0h-2V7h2v10zm4 0h-2v-4h2v4z\"/>\n",
              "    </g>\n",
              "</svg>\n",
              "  </button>\n",
              "\n",
              "<style>\n",
              "  .colab-df-quickchart {\n",
              "      --bg-color: #E8F0FE;\n",
              "      --fill-color: #1967D2;\n",
              "      --hover-bg-color: #E2EBFA;\n",
              "      --hover-fill-color: #174EA6;\n",
              "      --disabled-fill-color: #AAA;\n",
              "      --disabled-bg-color: #DDD;\n",
              "  }\n",
              "\n",
              "  [theme=dark] .colab-df-quickchart {\n",
              "      --bg-color: #3B4455;\n",
              "      --fill-color: #D2E3FC;\n",
              "      --hover-bg-color: #434B5C;\n",
              "      --hover-fill-color: #FFFFFF;\n",
              "      --disabled-bg-color: #3B4455;\n",
              "      --disabled-fill-color: #666;\n",
              "  }\n",
              "\n",
              "  .colab-df-quickchart {\n",
              "    background-color: var(--bg-color);\n",
              "    border: none;\n",
              "    border-radius: 50%;\n",
              "    cursor: pointer;\n",
              "    display: none;\n",
              "    fill: var(--fill-color);\n",
              "    height: 32px;\n",
              "    padding: 0;\n",
              "    width: 32px;\n",
              "  }\n",
              "\n",
              "  .colab-df-quickchart:hover {\n",
              "    background-color: var(--hover-bg-color);\n",
              "    box-shadow: 0 1px 2px rgba(60, 64, 67, 0.3), 0 1px 3px 1px rgba(60, 64, 67, 0.15);\n",
              "    fill: var(--button-hover-fill-color);\n",
              "  }\n",
              "\n",
              "  .colab-df-quickchart-complete:disabled,\n",
              "  .colab-df-quickchart-complete:disabled:hover {\n",
              "    background-color: var(--disabled-bg-color);\n",
              "    fill: var(--disabled-fill-color);\n",
              "    box-shadow: none;\n",
              "  }\n",
              "\n",
              "  .colab-df-spinner {\n",
              "    border: 2px solid var(--fill-color);\n",
              "    border-color: transparent;\n",
              "    border-bottom-color: var(--fill-color);\n",
              "    animation:\n",
              "      spin 1s steps(1) infinite;\n",
              "  }\n",
              "\n",
              "  @keyframes spin {\n",
              "    0% {\n",
              "      border-color: transparent;\n",
              "      border-bottom-color: var(--fill-color);\n",
              "      border-left-color: var(--fill-color);\n",
              "    }\n",
              "    20% {\n",
              "      border-color: transparent;\n",
              "      border-left-color: var(--fill-color);\n",
              "      border-top-color: var(--fill-color);\n",
              "    }\n",
              "    30% {\n",
              "      border-color: transparent;\n",
              "      border-left-color: var(--fill-color);\n",
              "      border-top-color: var(--fill-color);\n",
              "      border-right-color: var(--fill-color);\n",
              "    }\n",
              "    40% {\n",
              "      border-color: transparent;\n",
              "      border-right-color: var(--fill-color);\n",
              "      border-top-color: var(--fill-color);\n",
              "    }\n",
              "    60% {\n",
              "      border-color: transparent;\n",
              "      border-right-color: var(--fill-color);\n",
              "    }\n",
              "    80% {\n",
              "      border-color: transparent;\n",
              "      border-right-color: var(--fill-color);\n",
              "      border-bottom-color: var(--fill-color);\n",
              "    }\n",
              "    90% {\n",
              "      border-color: transparent;\n",
              "      border-bottom-color: var(--fill-color);\n",
              "    }\n",
              "  }\n",
              "</style>\n",
              "\n",
              "  <script>\n",
              "    async function quickchart(key) {\n",
              "      const quickchartButtonEl =\n",
              "        document.querySelector('#' + key + ' button');\n",
              "      quickchartButtonEl.disabled = true;  // To prevent multiple clicks.\n",
              "      quickchartButtonEl.classList.add('colab-df-spinner');\n",
              "      try {\n",
              "        const charts = await google.colab.kernel.invokeFunction(\n",
              "            'suggestCharts', [key], {});\n",
              "      } catch (error) {\n",
              "        console.error('Error during call to suggestCharts:', error);\n",
              "      }\n",
              "      quickchartButtonEl.classList.remove('colab-df-spinner');\n",
              "      quickchartButtonEl.classList.add('colab-df-quickchart-complete');\n",
              "    }\n",
              "    (() => {\n",
              "      let quickchartButtonEl =\n",
              "        document.querySelector('#df-fdac6846-0597-4c47-bc53-8b968388820d button');\n",
              "      quickchartButtonEl.style.display =\n",
              "        google.colab.kernel.accessAllowed ? 'block' : 'none';\n",
              "    })();\n",
              "  </script>\n",
              "</div>\n",
              "    </div>\n",
              "  </div>\n"
            ]
          },
          "metadata": {},
          "execution_count": 33
        }
      ],
      "source": [
        "# Tail of df\n",
        "meteorites.tail()"
      ]
    },
    {
      "cell_type": "markdown",
      "metadata": {
        "id": "9y22iXaiynN2"
      },
      "source": [
        "#### Get some information about the DataFrame"
      ]
    },
    {
      "cell_type": "code",
      "execution_count": 34,
      "metadata": {
        "id": "S4htaHdSynN2",
        "outputId": "d9182c40-7bb5-4330-88fd-813f14aec805",
        "colab": {
          "base_uri": "https://localhost:8080/"
        }
      },
      "outputs": [
        {
          "output_type": "stream",
          "name": "stdout",
          "text": [
            "<class 'pandas.core.frame.DataFrame'>\n",
            "RangeIndex: 45716 entries, 0 to 45715\n",
            "Data columns (total 10 columns):\n",
            " #   Column       Non-Null Count  Dtype  \n",
            "---  ------       --------------  -----  \n",
            " 0   name         45716 non-null  object \n",
            " 1   id           45716 non-null  int64  \n",
            " 2   nametype     45716 non-null  object \n",
            " 3   recclass     45716 non-null  object \n",
            " 4   mass (g)     45585 non-null  float64\n",
            " 5   fall         45716 non-null  object \n",
            " 6   year         45425 non-null  object \n",
            " 7   reclat       38401 non-null  float64\n",
            " 8   reclong      38401 non-null  float64\n",
            " 9   GeoLocation  38401 non-null  object \n",
            "dtypes: float64(3), int64(1), object(6)\n",
            "memory usage: 3.5+ MB\n"
          ]
        }
      ],
      "source": [
        "# Info about meteorites data\n",
        "\n",
        "meteorites.info()"
      ]
    },
    {
      "cell_type": "markdown",
      "metadata": {
        "id": "9H0k5q8gynN2"
      },
      "source": [
        "### Stop here!\n",
        "\n",
        "Complete the following exercises\n",
        "\n",
        "* [Exercise 1.1](./week1-lab2-intro-to-pandas.ipynb#Exercise-1.1)\n",
        "* [Exercise 1.2](./week1-lab2-intro-to-pandas.ipynb#Exercise-1.2)"
      ]
    },
    {
      "cell_type": "markdown",
      "metadata": {
        "id": "YTF3jHdzynN2"
      },
      "source": [
        "## Extracting subsets\n",
        "\n",
        "A crucial part of working with DataFrames is extracting subsets of the data: finding rows that meet a certain set of criteria, isolating columns/rows of interest, etc. After narrowing down our data, we are closer to discovering insights. This section will be the backbone of many analysis tasks."
      ]
    },
    {
      "cell_type": "markdown",
      "metadata": {
        "id": "O_OVW0XhynN2"
      },
      "source": [
        "#### Selecting columns\n",
        "\n",
        "We can select columns as attributes if their names would be valid Python variables:"
      ]
    },
    {
      "cell_type": "code",
      "execution_count": null,
      "metadata": {
        "id": "v51wQlf-ynN3"
      },
      "outputs": [],
      "source": [
        "# Columns as attributes"
      ]
    },
    {
      "cell_type": "markdown",
      "metadata": {
        "id": "0jGFbqZbynN3"
      },
      "source": [
        "If they aren't, we have to select them as keys. However, we can select multiple columns at once this way:"
      ]
    },
    {
      "cell_type": "code",
      "execution_count": null,
      "metadata": {
        "id": "toiylfGeynN3"
      },
      "outputs": [],
      "source": [
        "# Columns as keys"
      ]
    },
    {
      "cell_type": "markdown",
      "metadata": {
        "id": "WSNcy-r8ynN3"
      },
      "source": [
        "#### Selecting rows"
      ]
    },
    {
      "cell_type": "code",
      "execution_count": null,
      "metadata": {
        "id": "CQDKy5IxynN3"
      },
      "outputs": [],
      "source": [
        "# Selecting rows"
      ]
    },
    {
      "cell_type": "markdown",
      "metadata": {
        "id": "Q-YbgLvpynN3"
      },
      "source": [
        "#### Indexing\n",
        "\n",
        "We use `iloc[]` to select rows and columns by their position:"
      ]
    },
    {
      "cell_type": "code",
      "execution_count": null,
      "metadata": {
        "id": "O6_PMKdXynN4"
      },
      "outputs": [],
      "source": [
        "# Rows by position"
      ]
    },
    {
      "cell_type": "markdown",
      "metadata": {
        "id": "Nu9zLMCyynN4"
      },
      "source": [
        "We use `loc[]` to select by name:"
      ]
    },
    {
      "cell_type": "code",
      "execution_count": null,
      "metadata": {
        "id": "roN89G45ynN4"
      },
      "outputs": [],
      "source": [
        "# select by name"
      ]
    },
    {
      "cell_type": "markdown",
      "metadata": {
        "id": "SoKf-gz9ynN4"
      },
      "source": [
        "#### Filtering with Boolean masks\n",
        "\n",
        "A **Boolean mask** is a array-like structure of Boolean values &ndash; it's a way to specify which rows/columns we want to select (`True`) and which we don't (`False`)."
      ]
    },
    {
      "cell_type": "markdown",
      "metadata": {
        "id": "4a8apX_qynN4"
      },
      "source": [
        "Here's an example of a Boolean mask for meteorites weighing more than 50 grams that were found on Earth (i.e., they were not observed falling):"
      ]
    },
    {
      "cell_type": "code",
      "execution_count": null,
      "metadata": {
        "id": "yIjT5k16ynN4"
      },
      "outputs": [],
      "source": [
        "# boolean masks"
      ]
    },
    {
      "cell_type": "markdown",
      "metadata": {
        "id": "6D5e5I4mynN4"
      },
      "source": [
        "**Important**: Take note of the syntax here. We surround each condition with parentheses, and we use bitwise operators (`&`, `|`, `~`) instead of logical operators (`and`, `or`, `not`)."
      ]
    },
    {
      "cell_type": "markdown",
      "metadata": {
        "id": "ppkA5AjhynN5"
      },
      "source": [
        "We can use a Boolean mask to select the subset of meteorites weighing more than 1 million grams (1,000 kilograms or roughly 2,205 pounds) that were observed falling:"
      ]
    },
    {
      "cell_type": "code",
      "execution_count": null,
      "metadata": {
        "id": "5r_BrJ6iynN5"
      },
      "outputs": [],
      "source": [
        "# example"
      ]
    },
    {
      "cell_type": "markdown",
      "metadata": {
        "id": "riXfIAHoynN5"
      },
      "source": [
        "*Tip: Boolean masks can be used with `loc[]` and `iloc[]`.*"
      ]
    },
    {
      "cell_type": "markdown",
      "metadata": {
        "id": "BovLZ-yNynN5"
      },
      "source": [
        "An alternative to this is the `query()` method:"
      ]
    },
    {
      "cell_type": "code",
      "execution_count": null,
      "metadata": {
        "id": "IcfB-mCHynN5"
      },
      "outputs": [],
      "source": [
        "# Query language"
      ]
    },
    {
      "cell_type": "markdown",
      "metadata": {
        "id": "WksrbiFWynN5"
      },
      "source": [
        "*Tip: Here, we can use both logical operators and bitwise operators.*"
      ]
    },
    {
      "cell_type": "markdown",
      "metadata": {
        "id": "pfR9TCc3ynN5"
      },
      "source": [
        "## Calculating summary statistics\n",
        "\n",
        "In the next section of this workshop, we will discuss data cleaning for a more meaningful analysis of our datasets; however, we can already extract some interesting insights from the `meteorites` data by calculating summary statistics."
      ]
    },
    {
      "cell_type": "markdown",
      "metadata": {
        "id": "3wR5RBLnynN6"
      },
      "source": [
        "#### How many of the meteorites were found versus observed falling?"
      ]
    },
    {
      "cell_type": "code",
      "execution_count": null,
      "metadata": {
        "id": "L4-Q8b9lynN6"
      },
      "outputs": [],
      "source": [
        "# Value counts"
      ]
    },
    {
      "cell_type": "markdown",
      "metadata": {
        "id": "xEsX5nVqynN6"
      },
      "source": [
        "*Tip: Pass in `normalize=True` to see this result as percentages. Check the [documentation](https://pandas.pydata.org/docs/reference/api/pandas.Series.value_counts.html) for additional functionality.*"
      ]
    },
    {
      "cell_type": "markdown",
      "metadata": {
        "id": "6VTe7DLRynN6"
      },
      "source": [
        "#### What was the mass of the average meterorite?"
      ]
    },
    {
      "cell_type": "code",
      "execution_count": null,
      "metadata": {
        "id": "YgGk1muSynN6"
      },
      "outputs": [],
      "source": [
        "# function on a series"
      ]
    },
    {
      "cell_type": "markdown",
      "metadata": {
        "id": "iFU2Rsv-ynN7"
      },
      "source": [
        "**Important**: The mean isn't always the best measure of central tendency. If there are outliers in the distribution, the mean will be skewed. Here, the mean is being pulled higher by some very heavy meteorites &ndash; the distribution is [right-skewed](https://www.analyticsvidhya.com/blog/2020/07/what-is-skewness-statistics/)."
      ]
    },
    {
      "cell_type": "markdown",
      "metadata": {
        "id": "lLqAOf0TynN7"
      },
      "source": [
        "Taking a look at some quantiles at the extremes of the distribution shows that the mean is between the 95th and 99th percentile of the distribution, so it isn't a good measure of central tendency here:"
      ]
    },
    {
      "cell_type": "code",
      "execution_count": null,
      "metadata": {
        "id": "Tp9O6nBSynN7"
      },
      "outputs": [],
      "source": [
        "# quantiles"
      ]
    },
    {
      "cell_type": "markdown",
      "metadata": {
        "id": "6JNToRqeynN7"
      },
      "source": [
        "A better measure in this case is the median (50th percentile), since it is robust to outliers:"
      ]
    },
    {
      "cell_type": "code",
      "execution_count": null,
      "metadata": {
        "id": "9bFV6gudynN7",
        "outputId": "a56d979d-17b5-4678-8c29-23e926b69ce6"
      },
      "outputs": [
        {
          "data": {
            "text/plain": [
              "32.6"
            ]
          },
          "metadata": {},
          "output_type": "display_data"
        }
      ],
      "source": [
        "# median"
      ]
    },
    {
      "cell_type": "markdown",
      "metadata": {
        "id": "LbLtdZygynN7"
      },
      "source": [
        "#### What was the mass of the heaviest meteorite?"
      ]
    },
    {
      "cell_type": "code",
      "execution_count": null,
      "metadata": {
        "id": "LhaGiSW8ynN8",
        "outputId": "ac237ed1-6c4e-47aa-a118-b07ec1231458"
      },
      "outputs": [
        {
          "data": {
            "text/plain": [
              "60000000.0"
            ]
          },
          "metadata": {},
          "output_type": "display_data"
        }
      ],
      "source": [
        "# max"
      ]
    },
    {
      "cell_type": "markdown",
      "metadata": {
        "id": "--04eNxhynN8"
      },
      "source": [
        "Let's extract the information on this meteorite:"
      ]
    },
    {
      "cell_type": "code",
      "execution_count": null,
      "metadata": {
        "id": "F2UdqcJiynN8"
      },
      "outputs": [],
      "source": [
        "# idmax"
      ]
    },
    {
      "cell_type": "markdown",
      "metadata": {
        "id": "iRCo9fLhynN8"
      },
      "source": [
        "#### How many different types of meteorite classes are represented in this dataset?"
      ]
    },
    {
      "cell_type": "code",
      "execution_count": null,
      "metadata": {
        "id": "07qQtT9yynN8"
      },
      "outputs": [],
      "source": [
        "# num unique"
      ]
    },
    {
      "cell_type": "markdown",
      "metadata": {
        "id": "ACbMrl-1ynN8"
      },
      "source": [
        "Some examples:"
      ]
    },
    {
      "cell_type": "code",
      "execution_count": null,
      "metadata": {
        "id": "E1eYQHWzynN9"
      },
      "outputs": [],
      "source": [
        "# inspect clases"
      ]
    },
    {
      "cell_type": "markdown",
      "metadata": {
        "id": "K-pF-7d5ynN9"
      },
      "source": [
        "*Note: All fields preceded with \"rec\" are the values recommended by The Meteoritical Society. Check out [this Wikipedia article](https://en.wikipedia.org/wiki/Meteorite_classification) for some information on meteorite classes.*"
      ]
    },
    {
      "cell_type": "markdown",
      "metadata": {
        "id": "jwv4dURAynN9"
      },
      "source": [
        "#### Get some summary statistics on the data itself\n",
        "We can get common summary statistics for all columns at once. By default, this will only be numeric columns, but here, we will summarize everything together:"
      ]
    },
    {
      "cell_type": "code",
      "execution_count": null,
      "metadata": {
        "id": "7dhzmYNlynN9"
      },
      "outputs": [],
      "source": [
        "# summary stats"
      ]
    },
    {
      "cell_type": "markdown",
      "metadata": {
        "id": "MmbOF3fNynN9"
      },
      "source": [
        "**Important**: `NaN` values signify missing data. For instance, the `fall` column contains strings, so there is no value for `mean`; likewise, `mass (g)` is numeric, so we don't have entries for the categorical summary statistics (`unique`, `top`, `freq`)."
      ]
    },
    {
      "cell_type": "markdown",
      "metadata": {
        "id": "dtQ4tF6LynN-"
      },
      "source": [
        "#### Check out the documentation for more descriptive statistics:\n",
        "\n",
        "- [Series](https://pandas.pydata.org/docs/reference/series.html#computations-descriptive-stats)\n",
        "- [DataFrame](https://pandas.pydata.org/docs/reference/frame.html#computations-descriptive-stats)"
      ]
    },
    {
      "cell_type": "markdown",
      "metadata": {
        "id": "6IScaQiGynN-"
      },
      "source": [
        "# Section 2: Data Wrangling\n",
        "\n",
        "To prepare our data for analysis, we need to perform data wrangling. In this section, we will learn how to clean and reformat data (e.g., renaming columns and fixing data type mismatches), restructure/reshape it, and enrich it (e.g., discretizing columns, calculating aggregations, and combining data sources)."
      ]
    },
    {
      "cell_type": "markdown",
      "metadata": {
        "id": "Dv-v3_89ynN-"
      },
      "source": [
        "## Data cleaning\n",
        "\n",
        "In this section, we will take a look at creating, renaming, and dropping columns; type conversion; and sorting &ndash; all of which make our analysis easier. We will be working with the 2019 Yellow Taxi Trip Data provided by NYC Open Data."
      ]
    },
    {
      "cell_type": "code",
      "execution_count": null,
      "metadata": {
        "id": "qTeIB6JFynN-"
      },
      "outputs": [],
      "source": [
        "# read '../data/2019_Yellow_Taxi_Trip_Data.csv'"
      ]
    },
    {
      "cell_type": "markdown",
      "metadata": {
        "id": "n4p-bPxFynN-"
      },
      "source": [
        "*Source: [NYC Open Data](https://data.cityofnewyork.us/Transportation/2019-Yellow-Taxi-Trip-Data/2upf-qytp) collected via [SODA](https://dev.socrata.com/foundry/data.cityofnewyork.us/2upf-qytp).*"
      ]
    },
    {
      "cell_type": "markdown",
      "metadata": {
        "id": "PZfH0TztynN-"
      },
      "source": [
        "### Dropping columns\n",
        "Let's start by dropping the ID columns and the `store_and_fwd_flag` column, which we won't be using."
      ]
    },
    {
      "cell_type": "code",
      "execution_count": null,
      "metadata": {
        "id": "sMACHAZiynN-"
      },
      "outputs": [],
      "source": [
        "# select columns to drop"
      ]
    },
    {
      "cell_type": "code",
      "execution_count": null,
      "metadata": {
        "id": "fN5JeY9synN_"
      },
      "outputs": [],
      "source": [
        "# drop columns"
      ]
    },
    {
      "cell_type": "markdown",
      "metadata": {
        "id": "TGKPRsSUynN_"
      },
      "source": [
        "*Tip: Another way to do this is to select the columns we want to keep: `taxis.loc[:,~mask]`.*"
      ]
    },
    {
      "cell_type": "markdown",
      "metadata": {
        "id": "VRo1OGkgynN_"
      },
      "source": [
        "### Renaming columns\n",
        "\n",
        "Next, let's rename the datetime columns:"
      ]
    },
    {
      "cell_type": "code",
      "execution_count": null,
      "metadata": {
        "id": "NIqzdUyDynN_"
      },
      "outputs": [],
      "source": [
        "# rename pickup, dropoff"
      ]
    },
    {
      "cell_type": "markdown",
      "metadata": {
        "id": "ZdoWopwFynN_"
      },
      "source": [
        "### Type conversion\n",
        "\n",
        "Notice anything off with the data types?"
      ]
    },
    {
      "cell_type": "code",
      "execution_count": null,
      "metadata": {
        "id": "hcMW1dN3ynN_"
      },
      "outputs": [],
      "source": [
        "# types"
      ]
    },
    {
      "cell_type": "markdown",
      "metadata": {
        "id": "ogdxAMAxynOA"
      },
      "source": [
        "Both `pickup` and `dropoff` should be stored as datetimes. Let's fix this:"
      ]
    },
    {
      "cell_type": "code",
      "execution_count": null,
      "metadata": {
        "id": "a4kXBMBJynOA"
      },
      "outputs": [],
      "source": [
        "# convert"
      ]
    },
    {
      "cell_type": "markdown",
      "metadata": {
        "id": "MtG7BlrGynOA"
      },
      "source": [
        "*Tip: There are other ways to perform type conversion. For numeric values, we can use the `pd.to_numeric()` function, and we will see the `astype()` method, which is a more generic method, a little later.*"
      ]
    },
    {
      "cell_type": "markdown",
      "metadata": {
        "id": "9D8H4T2JynOA"
      },
      "source": [
        "### Creating new columns\n",
        "\n",
        "Let's calculate the following for each row:\n",
        "\n",
        "1. elapsed time of the trip\n",
        "2. the tip percentage\n",
        "3. the total taxes, tolls, fees, and surcharges\n",
        "4. the average speed of the taxi"
      ]
    },
    {
      "cell_type": "code",
      "execution_count": null,
      "metadata": {
        "id": "pfKhQcb5ynOA"
      },
      "outputs": [],
      "source": [
        "# using 'assign'"
      ]
    },
    {
      "cell_type": "markdown",
      "metadata": {
        "id": "6p-eJAEFynOA"
      },
      "source": [
        "*Tip: New to `lambda` functions? These small, anonymous functions can receive multiple arguments, but can only contain one expression (the return value). You will see these a lot in pandas code. Read more about them [here](https://realpython.com/python-lambda/).*"
      ]
    },
    {
      "cell_type": "markdown",
      "metadata": {
        "id": "605wAMIAynOA"
      },
      "source": [
        "Our new columns get added to the right:"
      ]
    },
    {
      "cell_type": "code",
      "execution_count": null,
      "metadata": {
        "id": "UhYetMe1ynOB"
      },
      "outputs": [],
      "source": [
        "# inspect"
      ]
    },
    {
      "cell_type": "markdown",
      "metadata": {
        "id": "sex6WISKynOB"
      },
      "source": [
        "Some things to note:\n",
        "- We used `lambda` functions to 1) avoid typing `taxis` repeatedly and 2) be able to access the `cost_before_tip` and `elapsed_time` columns in the same method that we create them.\n",
        "- To create a single new column, we can also use `df['new_col'] = <values>`."
      ]
    },
    {
      "cell_type": "markdown",
      "metadata": {
        "id": "J2uD0oFcynOB"
      },
      "source": [
        "### Sorting by values\n",
        "\n",
        "We can use the `sort_values()` method to sort based on any number of columns:"
      ]
    },
    {
      "cell_type": "code",
      "execution_count": null,
      "metadata": {
        "id": "W4Y3x8tdynOB"
      },
      "outputs": [],
      "source": [
        "# sort values"
      ]
    },
    {
      "cell_type": "markdown",
      "metadata": {
        "id": "VKiK-qHEynOB"
      },
      "source": [
        "To pick out the largest/smallest rows, use `nlargest()` / `nsmallest()` instead. Looking at the 3 trips with the longest elapsed time, we see some possible data integrity issues:"
      ]
    },
    {
      "cell_type": "code",
      "execution_count": null,
      "metadata": {
        "id": "oIxJJ5E5ynOB"
      },
      "outputs": [],
      "source": [
        "# using nlargest"
      ]
    },
    {
      "cell_type": "markdown",
      "metadata": {
        "id": "U0Nv_iNaynOB"
      },
      "source": [
        "### Stop here!\n",
        "\n",
        "Complete [Exercise 2.1](./week1-lab2-intro-to-pandas.ipynb#Exercise-2.1)"
      ]
    },
    {
      "cell_type": "markdown",
      "metadata": {
        "id": "pZ4tBxBQynOC"
      },
      "source": [
        "## Working with the index\n",
        "\n",
        "So far, we haven't really worked with the index because it's just been a row number; however, we can change the values we have in the index to access additional features of the pandas library."
      ]
    },
    {
      "cell_type": "markdown",
      "metadata": {
        "id": "z6h511_VynOC"
      },
      "source": [
        "### Setting and sorting the index\n",
        "\n",
        "Currently, we have a RangeIndex, but we can switch to a DatetimeIndex by specifying a datetime column when calling `set_index()`:"
      ]
    },
    {
      "cell_type": "code",
      "execution_count": null,
      "metadata": {
        "id": "yVTUPzn5ynOC"
      },
      "outputs": [],
      "source": [
        "# Set index to datetime"
      ]
    },
    {
      "cell_type": "markdown",
      "metadata": {
        "id": "wVd9bQwgynOC"
      },
      "source": [
        "Since we have a sample of the full dataset, let's sort the index to order by pickup time:"
      ]
    },
    {
      "cell_type": "code",
      "execution_count": null,
      "metadata": {
        "id": "2h24K6UYynOC"
      },
      "outputs": [],
      "source": [
        "# Sort by index"
      ]
    },
    {
      "cell_type": "markdown",
      "metadata": {
        "id": "2aR3FbHdynOC"
      },
      "source": [
        "*Tip: `taxis.sort_index(axis=1)` will sort the columns by name. The `axis` parameter is present throughout the pandas library: `axis=0` targets rows and `axis=1` targets columns.*"
      ]
    },
    {
      "cell_type": "markdown",
      "metadata": {
        "id": "pmRQotNzynOC"
      },
      "source": [
        "We can now select ranges from our data based on the datetime the same way we did with row numbers:"
      ]
    },
    {
      "cell_type": "code",
      "execution_count": null,
      "metadata": {
        "id": "lu_ylN4eynOD"
      },
      "outputs": [],
      "source": [
        "# range by date"
      ]
    },
    {
      "cell_type": "markdown",
      "metadata": {
        "id": "QxUmVVPTynOD"
      },
      "source": [
        "When not specifying a range, we use `loc[]`:"
      ]
    },
    {
      "cell_type": "code",
      "execution_count": null,
      "metadata": {
        "id": "Q2MZimZ4ynOD"
      },
      "outputs": [],
      "source": [
        "# using loc"
      ]
    },
    {
      "cell_type": "markdown",
      "metadata": {
        "id": "i_KcIwWmynOD"
      },
      "source": [
        "### Resetting the index\n",
        "\n",
        "We will be working with time series later this section, but sometimes we want to reset our index to row numbers and restore the columns. We can make `pickup` a column again with the `reset_index()` method:"
      ]
    },
    {
      "cell_type": "code",
      "execution_count": null,
      "metadata": {
        "id": "OJJV_ZODynOD"
      },
      "outputs": [],
      "source": [
        "#reset index"
      ]
    },
    {
      "cell_type": "markdown",
      "metadata": {
        "id": "TDs5Se4JynOD"
      },
      "source": [
        "### Stop here!\n",
        "\n",
        "Complete [Exercise 2.2](./week1-lab2-intro-to-pandas.ipynb#Exercise-2.2)"
      ]
    },
    {
      "cell_type": "markdown",
      "metadata": {
        "id": "aSIMi8U9ynOD"
      },
      "source": [
        "## Reshaping data\n",
        "\n",
        "The taxi dataset we have be working with is in a format conducive to an analysis. This isn't always the case. Let's now take a look at the TSA traveler throughput data, which compares 2021 throughput to the same day in 2020 and 2019:"
      ]
    },
    {
      "cell_type": "code",
      "execution_count": null,
      "metadata": {
        "id": "-mLRg514ynOE"
      },
      "outputs": [],
      "source": [
        "# read '../data/tsa_passenger_throughput.csv'"
      ]
    },
    {
      "cell_type": "markdown",
      "metadata": {
        "id": "umNPfD2xynOE"
      },
      "source": [
        "*Source: [TSA.gov](https://www.tsa.gov/coronavirus/passenger-throughput)*"
      ]
    },
    {
      "cell_type": "markdown",
      "metadata": {
        "id": "4Rv0-kbOynOE"
      },
      "source": [
        "First, we will lowercase the column names and take the first word (e.g., `2021` for `2021 Traveler Throughput`) to make this easier to work with:"
      ]
    },
    {
      "cell_type": "code",
      "execution_count": null,
      "metadata": {
        "id": "nbrYPkJmynOE"
      },
      "outputs": [],
      "source": []
    },
    {
      "cell_type": "markdown",
      "metadata": {
        "id": "aH0MJEqGynOE"
      },
      "source": [
        "Now, we can work on reshaping it."
      ]
    },
    {
      "cell_type": "markdown",
      "metadata": {
        "id": "gP0GMIS1ynOE"
      },
      "source": [
        "### Melting\n",
        "\n",
        "Melting helps convert our data into long format. Now, we have all the traveler throughput numbers in a single column:"
      ]
    },
    {
      "cell_type": "code",
      "execution_count": null,
      "metadata": {
        "id": "yF1RzoFIynOE"
      },
      "outputs": [],
      "source": [
        "# melt data"
      ]
    },
    {
      "cell_type": "markdown",
      "metadata": {
        "id": "wioB8lerynOF"
      },
      "source": [
        "To convert this into a time series of traveler throughput, we need to replace the year in the `date` column with the one in the `year` column. Otherwise, we are marking prior years' numbers with the wrong year."
      ]
    },
    {
      "cell_type": "code",
      "execution_count": null,
      "metadata": {
        "id": "6lhr1y63ynOF"
      },
      "outputs": [],
      "source": [
        "# fix year"
      ]
    },
    {
      "cell_type": "markdown",
      "metadata": {
        "id": "gCN-2TQIynOF"
      },
      "source": [
        "This leaves us with some null values (the dates that aren't present in the dataset):"
      ]
    },
    {
      "cell_type": "code",
      "execution_count": null,
      "metadata": {
        "id": "DjLP91-TynOF"
      },
      "outputs": [],
      "source": []
    },
    {
      "cell_type": "markdown",
      "metadata": {
        "id": "GUHjlOQxynOF"
      },
      "source": [
        "These can be dropped with the `dropna()` method:"
      ]
    },
    {
      "cell_type": "code",
      "execution_count": null,
      "metadata": {
        "id": "JV2hEH-_ynOF"
      },
      "outputs": [],
      "source": [
        "# dropna"
      ]
    },
    {
      "cell_type": "markdown",
      "metadata": {
        "id": "EJHVQ2KbynOF"
      },
      "source": [
        "### Pivoting\n",
        "\n",
        "Using the melted data, we can pivot the data to compare TSA traveler throughput on specific days across years:"
      ]
    },
    {
      "cell_type": "code",
      "execution_count": null,
      "metadata": {
        "id": "FIgUYP7eynOF"
      },
      "outputs": [],
      "source": []
    },
    {
      "cell_type": "markdown",
      "metadata": {
        "id": "pSQHHiZcynOG"
      },
      "source": [
        "**Important**: We aren't covering the `unstack()` and `stack()` methods, which are additional ways to pivot and melt, respectively. These come in handy when we have a multi-level index (e.g., if we ran `set_index()` with more than one column). More information can be found [here](https://pandas.pydata.org/pandas-docs/stable/user_guide/reshaping.html)."
      ]
    },
    {
      "cell_type": "markdown",
      "metadata": {
        "id": "5_KOkJixynOG"
      },
      "source": [
        "### Transposing\n",
        "\n",
        "The `T` attribute provides a quick way to flip rows and columns."
      ]
    },
    {
      "cell_type": "code",
      "execution_count": null,
      "metadata": {
        "id": "3dLXGbC8ynOG"
      },
      "outputs": [],
      "source": []
    },
    {
      "cell_type": "markdown",
      "metadata": {
        "id": "mWXzyK5cynOG"
      },
      "source": [
        "### Merging\n",
        "\n",
        "We typically observe changes in air travel around the holidays, so adding information about the dates in the TSA dataset provides more context. The `holidays.csv` file contains a few major holidays in the United States:"
      ]
    },
    {
      "cell_type": "code",
      "execution_count": null,
      "metadata": {
        "id": "dy79kdMTynOG"
      },
      "outputs": [],
      "source": [
        "# Read holidays data '../data/holidays.csv'"
      ]
    },
    {
      "cell_type": "markdown",
      "metadata": {
        "id": "BNiwahTtynOG"
      },
      "source": [
        "Merging the holidays with the TSA traveler throughput data will provide more context for our analysis:"
      ]
    },
    {
      "cell_type": "code",
      "execution_count": null,
      "metadata": {
        "id": "jKj_BMmzynOG"
      },
      "outputs": [],
      "source": [
        "# merge with tsa_melted"
      ]
    },
    {
      "cell_type": "markdown",
      "metadata": {
        "id": "__hVsKHcynOG"
      },
      "source": [
        "*Tip: There are many parameters for this method, so be sure to check out the [documentation](https://pandas.pydata.org/pandas-docs/stable/reference/api/pandas.DataFrame.merge.html). To append rows, take a look at the `pd.concat()` function.*"
      ]
    },
    {
      "cell_type": "markdown",
      "metadata": {
        "id": "0DQThGnoynOH"
      },
      "source": [
        "We can take this a step further by marking a few days before and after each holiday as part of the holiday. This would make it easier to compare holiday travel across years and look for any uptick in travel around the holidays:"
      ]
    },
    {
      "cell_type": "code",
      "execution_count": null,
      "metadata": {
        "id": "hxyZYZUbynOH"
      },
      "outputs": [],
      "source": []
    },
    {
      "cell_type": "markdown",
      "metadata": {
        "id": "XBLZNVUGynOH"
      },
      "source": [
        "*Tip: Check out the [documentation](https://pandas.pydata.org/pandas-docs/stable/reference/api/pandas.DataFrame.fillna.html) for the full list of functionality available with the `fillna()` method.*"
      ]
    },
    {
      "cell_type": "markdown",
      "metadata": {
        "id": "jCy5ANP0ynOH"
      },
      "source": [
        "Notice that we now have values for the day after each holiday and the two days prior. Thanksgiving in 2019 was on November 28th, so the 26th, 27th, and 29th were filled. Since we are only replacing null values, we don't override Christmas Day with the forward fill of Christmas Eve:"
      ]
    },
    {
      "cell_type": "code",
      "execution_count": null,
      "metadata": {
        "id": "NBS0jcOVynOH"
      },
      "outputs": [],
      "source": [
        "# inspection"
      ]
    },
    {
      "cell_type": "markdown",
      "metadata": {
        "id": "gg3uS-j3ynOH"
      },
      "source": [
        "## Aggregations and grouping\n",
        "\n",
        "After reshaping and cleaning our data, we can perform aggregations to summarize it in a variety of ways. In this section, we will explore using pivot tables, crosstabs, and group by operations to aggregate the data."
      ]
    },
    {
      "cell_type": "markdown",
      "metadata": {
        "id": "G1KHIhFuynOH"
      },
      "source": [
        "### Pivot tables\n",
        "We can build a pivot table to compare holiday travel across the years in our dataset:"
      ]
    },
    {
      "cell_type": "code",
      "execution_count": null,
      "metadata": {
        "id": "FwUB0yYuynOH"
      },
      "outputs": [],
      "source": [
        "# pivot"
      ]
    },
    {
      "cell_type": "markdown",
      "metadata": {
        "id": "ZaCod2JrynOI"
      },
      "source": [
        "We can use the `pct_change()` method on this result to see which holiday travel periods saw the biggest change in travel:"
      ]
    },
    {
      "cell_type": "code",
      "execution_count": null,
      "metadata": {
        "id": "6e0FSBCkynOI"
      },
      "outputs": [],
      "source": [
        "# pct_change"
      ]
    },
    {
      "cell_type": "markdown",
      "metadata": {
        "id": "pcXtJJ3nynOI"
      },
      "source": [
        "Let's make one last pivot table with column and row subtotals, along with some formatting improvements. First, we set a display option for all floats:"
      ]
    },
    {
      "cell_type": "code",
      "execution_count": null,
      "metadata": {
        "id": "SQnkHFTdynOI"
      },
      "outputs": [],
      "source": [
        "# set display options"
      ]
    },
    {
      "cell_type": "markdown",
      "metadata": {
        "id": "m07CdVMWynOI"
      },
      "source": [
        "Next, we group together Christmas Eve and Christmas Day, likewise for New Year's Eve and New Year's Day, and create the pivot table:"
      ]
    },
    {
      "cell_type": "code",
      "execution_count": null,
      "metadata": {
        "id": "UrH0F4yyynOI"
      },
      "outputs": [],
      "source": [
        "#pivot table"
      ]
    },
    {
      "cell_type": "markdown",
      "metadata": {
        "id": "GeKpbifJynOI"
      },
      "source": [
        "Before moving on, let's reset the display option:"
      ]
    },
    {
      "cell_type": "code",
      "execution_count": null,
      "metadata": {
        "id": "xunADDSdynOI"
      },
      "outputs": [],
      "source": [
        "# reset display options"
      ]
    },
    {
      "cell_type": "markdown",
      "metadata": {
        "id": "ZnqYxZQ0ynOJ"
      },
      "source": [
        "*Tip: Read more about options in the documentation [here](https://pandas.pydata.org/pandas-docs/stable/user_guide/options.html).*"
      ]
    },
    {
      "cell_type": "markdown",
      "metadata": {
        "id": "-n0g9r-8ynOJ"
      },
      "source": [
        "### Stop here!\n",
        "\n",
        "Complete [Exercise 2.3](./week1-lab2-intro-to-pandas.ipynb#Exercise-2.3)"
      ]
    },
    {
      "cell_type": "markdown",
      "metadata": {
        "id": "-t2FQkUbynOJ"
      },
      "source": [
        "### Crosstabs\n",
        "The `pd.crosstab()` function provides an easy way to create a frequency table. Here, we count the number of low-, medium-, and high-volume travel days per year, using the `pd.cut()` function to create three travel volume bins of equal width:"
      ]
    },
    {
      "cell_type": "code",
      "execution_count": null,
      "metadata": {
        "id": "QJXEk30yynOJ"
      },
      "outputs": [],
      "source": [
        "#crosstab"
      ]
    },
    {
      "cell_type": "markdown",
      "metadata": {
        "id": "cpDfnDSoynOJ"
      },
      "source": [
        "*Tip: The `pd.cut()` function can also be used to specify custom bin ranges. For equal-sized bins based on quantiles, use the `pd.qcut()` function instead.*"
      ]
    },
    {
      "cell_type": "markdown",
      "metadata": {
        "id": "xbKk0xvHynOJ"
      },
      "source": [
        "Note that the `pd.crosstab()` function supports other aggregations provided you pass in the data to aggregate as `values` and specify the aggregation with `aggfunc`. You can also add subtotals and normalize the data. See the [documentation](https://pandas.pydata.org/pandas-docs/stable/reference/api/pandas.crosstab.html) for more information."
      ]
    },
    {
      "cell_type": "markdown",
      "metadata": {
        "id": "5y4DAAOQynOJ"
      },
      "source": [
        "### Group by operations\n",
        "Rather than perform aggregations, like `mean()` or `describe()`, on the full dataset at once, we can perform these calculations per group by first calling `groupby()`:"
      ]
    },
    {
      "cell_type": "code",
      "execution_count": null,
      "metadata": {
        "id": "ymu8Y56qynOJ"
      },
      "outputs": [],
      "source": [
        "#groupby"
      ]
    },
    {
      "cell_type": "markdown",
      "metadata": {
        "id": "ASSWokBOynOK"
      },
      "source": [
        "Groups can also be used to perform separate calculations per subset of the data. For example, we can find the highest-volume travel day per year using `rank()`:"
      ]
    },
    {
      "cell_type": "code",
      "execution_count": null,
      "metadata": {
        "id": "-TiFL-iCynOK"
      },
      "outputs": [],
      "source": [
        "#rank by subset"
      ]
    },
    {
      "cell_type": "markdown",
      "metadata": {
        "id": "ZULi6cWIynOK"
      },
      "source": [
        "The previous two examples called a single method on the grouped data, but using the `agg()` method we can specify any number of them:"
      ]
    },
    {
      "cell_type": "code",
      "execution_count": null,
      "metadata": {
        "id": "KJKV13g7ynOK"
      },
      "outputs": [],
      "source": [
        "#agg"
      ]
    },
    {
      "cell_type": "markdown",
      "metadata": {
        "id": "ZMW9fXuHynOK"
      },
      "source": [
        "*Tip: The `select_dtypes()` method makes it possible to select columns by their data type. We can specify the data types to `exclude` and/or `include`.*"
      ]
    },
    {
      "cell_type": "markdown",
      "metadata": {
        "id": "vLuRE5jzynOK"
      },
      "source": [
        "In addition, we can specify which aggregations to perform on each column:"
      ]
    },
    {
      "cell_type": "code",
      "execution_count": null,
      "metadata": {
        "id": "dBxJrzjqynOK"
      },
      "outputs": [],
      "source": [
        "# complex aggregations"
      ]
    },
    {
      "cell_type": "markdown",
      "metadata": {
        "id": "l-COHvnHynOK"
      },
      "source": [
        "We are only scratching the surface; some additional functionalities to be aware of include the following:\n",
        "- We can group by multiple columns &ndash; this creates a hierarchical index.\n",
        "- Groups can be excluded from calculations with the `filter()` method.\n",
        "- We can group on content in the index using the `level` or `name` parameters e.g., `groupby(level=0)` or `groupby(name='year')`.\n",
        "- We can group by date ranges if we use a `pd.Grouper()` object."
      ]
    },
    {
      "cell_type": "markdown",
      "metadata": {
        "id": "cEyHf7yeynOK"
      },
      "source": [
        "Be sure to check out the [documentation](https://pandas.pydata.org/pandas-docs/stable/reference/api/pandas.DataFrame.groupby.html) for more details."
      ]
    },
    {
      "cell_type": "markdown",
      "metadata": {
        "id": "JoB8VFqvynOL"
      },
      "source": [
        "### Stop here\n",
        "\n",
        "Complete [Exercise 2.4](./week1-lab2-intro-to-pandas.ipynb#Exercise-2.4)"
      ]
    },
    {
      "cell_type": "markdown",
      "metadata": {
        "id": "cE90IxVPynOL"
      },
      "source": [
        "## Time series\n",
        "\n",
        "When working with time series data, pandas provides us with additional functionality to not just compare the observations in our dataset, but to use their relationship in time to analyze the data. In this section, we will see a few such operations for selecting date/time ranges, calculating changes over time, performing window calculations, and resampling the data to different date/time intervals."
      ]
    },
    {
      "cell_type": "markdown",
      "metadata": {
        "id": "_oWslB_8ynOL"
      },
      "source": [
        "### Selecting based on date and time\n",
        "\n",
        "Let's switch back to the `taxis` dataset, which has timestamps of pickups and dropoffs. First, we will set the `dropoff` column as the index and sort the data:"
      ]
    },
    {
      "cell_type": "code",
      "execution_count": null,
      "metadata": {
        "id": "yJ_FOLTdynOL"
      },
      "outputs": [],
      "source": []
    },
    {
      "cell_type": "markdown",
      "metadata": {
        "id": "Kaob70r_ynOL"
      },
      "source": [
        "We saw earlier that we can slice on the datetimes:"
      ]
    },
    {
      "cell_type": "code",
      "execution_count": null,
      "metadata": {
        "id": "xY74zFTMynOL"
      },
      "outputs": [],
      "source": []
    },
    {
      "cell_type": "markdown",
      "metadata": {
        "id": "kNo-Bd54ynOL"
      },
      "source": [
        "We can also represent this range with shorthand. Note that we must use `loc[]` here:"
      ]
    },
    {
      "cell_type": "code",
      "execution_count": null,
      "metadata": {
        "id": "6rKoTOzAynOL"
      },
      "outputs": [],
      "source": []
    },
    {
      "cell_type": "markdown",
      "metadata": {
        "id": "Id5UXcjDynOL"
      },
      "source": [
        "However, if we want to look at this time range across days, we need another strategy."
      ]
    },
    {
      "cell_type": "markdown",
      "metadata": {
        "id": "ks2VJ6iZynOM"
      },
      "source": [
        "We can pull out the dropoffs that happened between a certain time range on *any* day with the `between_time()` method:"
      ]
    },
    {
      "cell_type": "code",
      "execution_count": null,
      "metadata": {
        "id": "syGxkx-PynOM"
      },
      "outputs": [],
      "source": []
    },
    {
      "cell_type": "markdown",
      "metadata": {
        "id": "myxBW7WTynOM"
      },
      "source": [
        "*Tip: The `at_time()` method can be used to extract all entries at a given time (e.g., 12:35:27).*"
      ]
    },
    {
      "cell_type": "markdown",
      "metadata": {
        "id": "tE5VS8tVynOM"
      },
      "source": [
        "Finally, `head()` and `tail()` limit us to a number of rows, but we may be interested in rows within the first/last 2 hours (or any other time interval) of the data, in which case, we should use `first()` / `last()`:"
      ]
    },
    {
      "cell_type": "code",
      "execution_count": null,
      "metadata": {
        "id": "P1_EhbLKynOM"
      },
      "outputs": [],
      "source": []
    },
    {
      "cell_type": "markdown",
      "metadata": {
        "id": "Fk21m7twynOM"
      },
      "source": [
        "*Tip: Available date/time offsets can be found in the pandas documentation [here](https://pandas.pydata.org/pandas-docs/stable/user_guide/timeseries.html#dateoffset-objects).*"
      ]
    },
    {
      "cell_type": "markdown",
      "metadata": {
        "id": "iK6xpJNZynOM"
      },
      "source": [
        "For the rest of this section, we will be working with the TSA traveler throughput data. Let's start by setting the index to the `date` column:"
      ]
    },
    {
      "cell_type": "code",
      "execution_count": null,
      "metadata": {
        "id": "uDUP3032ynOM"
      },
      "outputs": [],
      "source": []
    },
    {
      "cell_type": "markdown",
      "metadata": {
        "id": "eLLXY5eeynOM"
      },
      "source": [
        "### Calculating change over time"
      ]
    },
    {
      "cell_type": "code",
      "execution_count": null,
      "metadata": {
        "id": "1qxPCqxvynOM"
      },
      "outputs": [],
      "source": [
        "# using diff"
      ]
    },
    {
      "cell_type": "markdown",
      "metadata": {
        "id": "HpIPbzdbynON"
      },
      "source": [
        "*Tip: To perform operations other than subtraction, take a look at the `shift()` method. It also makes it possible to perform operations across columns.*"
      ]
    },
    {
      "cell_type": "markdown",
      "metadata": {
        "id": "X_OYy-CrynON"
      },
      "source": [
        "### Resampling\n",
        "We can use resampling to aggregate time series data to a new frequency:"
      ]
    },
    {
      "cell_type": "code",
      "execution_count": null,
      "metadata": {
        "id": "IYpdVMxKynON"
      },
      "outputs": [],
      "source": [
        "# resample"
      ]
    },
    {
      "cell_type": "markdown",
      "metadata": {
        "id": "mw4pZmpZynON"
      },
      "source": [
        "### Window calculations\n",
        "\n",
        "Window calculations are similar to group by calculations except the group over which the calculation is performed isn't static &ndash; it can move or expand. Pandas provides functionality for constructing a variety of windows, including moving/rolling windows, expanding windows (e.g., cumulative sum or mean up to the current date in a time series), and exponentially weighted moving windows (to weight closer observations more than further ones). We will only look at rolling and expanding calculations here."
      ]
    },
    {
      "cell_type": "markdown",
      "metadata": {
        "id": "ObnP1AF3ynON"
      },
      "source": [
        "Performing a window calculation is very similar to a group by calculation &ndash; we first define the window, and then we specify the aggregation:"
      ]
    },
    {
      "cell_type": "code",
      "execution_count": null,
      "metadata": {
        "id": "mKQeTuT7ynON"
      },
      "outputs": [],
      "source": [
        "# rolling windows"
      ]
    },
    {
      "cell_type": "markdown",
      "metadata": {
        "id": "q3yHdL-fynON"
      },
      "source": [
        "To understand what's happening, it's best to visualize the original data and the result, so here's a sneak peek of plotting with pandas. First, some setup to embed SVG plots in the notebook:"
      ]
    },
    {
      "cell_type": "code",
      "execution_count": null,
      "metadata": {
        "id": "3EUR_dtGynON"
      },
      "outputs": [],
      "source": [
        "import matplotlib_inline\n",
        "from utils import mpl_svg_config\n",
        "\n",
        "matplotlib_inline.backend_inline.set_matplotlib_formats(\n",
        "    'svg' # output images using SVG format\n",
        ")"
      ]
    },
    {
      "cell_type": "markdown",
      "metadata": {
        "id": "A7tnGyxEynOO"
      },
      "source": [
        "Now, we call the `plot()` method to visualize the data:"
      ]
    },
    {
      "cell_type": "code",
      "execution_count": null,
      "metadata": {
        "id": "bZ8EYEtyynOO"
      },
      "outputs": [],
      "source": []
    },
    {
      "cell_type": "markdown",
      "metadata": {
        "id": "WrKZg-XqynOO"
      },
      "source": [
        "Other types of windows:\n",
        "- [exponentially weighted moving](https://pandas.pydata.org/pandas-docs/stable/reference/api/pandas.DataFrame.ewm.html): use the `ewm()` method\n",
        "- [custom](https://pandas.pydata.org/docs/user_guide/window.html#window-custom-rolling-window): create a subclass of `pandas.api.indexers.BaseIndexer` or use a pre-built one in `pandas.api.indexers`"
      ]
    },
    {
      "cell_type": "markdown",
      "metadata": {
        "id": "rC7Pb3PLynOO"
      },
      "source": [
        "### Stop here\n",
        "\n",
        "Complete [Exercise 2.5](./week1-lab2-intro-to-pandas.ipynb#Exercise-2.5)"
      ]
    },
    {
      "cell_type": "markdown",
      "metadata": {
        "id": "M9oWMsbxynOO"
      },
      "source": [
        "# Section 3: Data Visualization\n",
        "\n",
        "The human brain excels at finding patterns in visual representations of the data; so in this section, we will learn how to visualize data using pandas along with the Matplotlib and Seaborn libraries for additional features. We will create a variety of visualizations that will help us better understand our data."
      ]
    },
    {
      "cell_type": "markdown",
      "metadata": {
        "id": "OhgxAJZPynOO"
      },
      "source": [
        "## Why is data visualization necessary?\n",
        "\n",
        "So far, we have focused a lot on summarizing the data using statistics. However, summary statistics are not enough to understand the distribution &ndash; there are many possible distributions for a given set of summary statistics. Data visualization is necessary to truly understand the distribution:\n",
        "\n",
        "<div style=\"text-align: center; margin-top: -10px;\">\n",
        "<img width=\"50%\" src=\"https://raw.githubusercontent.com/stefmolin/data-morph/main/docs/_static/panda-to-star-eased.gif\" alt=\"Data Morph: panda to star\" style=\"min-width: 300px; margin-bottom: -10px;\"/>\n",
        "<div style=\"margin: auto; margin-top: 10px\"><small><em>A set of points forming a panda can also form a star without any significant changes to the summary statistics displayed above. (source: <a href=\"https://github.com/stefmolin/data-morph\">Data Morph</a>)</em></small></div>\n",
        "</div>"
      ]
    },
    {
      "cell_type": "markdown",
      "metadata": {
        "id": "jF9DSdf5ynOO"
      },
      "source": [
        "## Plotting with pandas\n",
        "\n",
        "We can create a variety of visualizations using the `plot()` method. In this section, we will take a brief tour of some of this functionality, which under the hood uses Matplotlib."
      ]
    },
    {
      "cell_type": "markdown",
      "metadata": {
        "id": "k73F3gHRynOO"
      },
      "source": [
        "Once again, we will be working with the TSA traveler throughput data that we cleaned up in the previous section:"
      ]
    },
    {
      "cell_type": "code",
      "execution_count": null,
      "metadata": {
        "id": "n-_bMr1synOO"
      },
      "outputs": [],
      "source": [
        "# read data '../data/tsa_melted_holiday_travel.csv'"
      ]
    },
    {
      "cell_type": "markdown",
      "metadata": {
        "id": "zT4d-xYJynOP"
      },
      "source": [
        "To embed SVG-format plots in the notebook, we will configure the Matplotlib plotting backend to generate SVG output"
      ]
    },
    {
      "cell_type": "code",
      "execution_count": null,
      "metadata": {
        "id": "_k33NIr5ynOP"
      },
      "outputs": [],
      "source": []
    },
    {
      "cell_type": "markdown",
      "metadata": {
        "id": "rxz-XAnRynOP"
      },
      "source": [
        "### Line plots\n",
        "\n",
        "The `plot()` method will generate line plots for all numeric columns by default:"
      ]
    },
    {
      "cell_type": "code",
      "execution_count": null,
      "metadata": {
        "id": "xWJYCKtXynOP"
      },
      "outputs": [],
      "source": [
        "#plot command"
      ]
    },
    {
      "cell_type": "markdown",
      "metadata": {
        "id": "qeSg5FYqynOP"
      },
      "source": [
        "The `plot()` method returns an `Axes` object that can be modified further (e.g., to add reference lines, annotations, labels, etc.). Let's walk through an example."
      ]
    },
    {
      "cell_type": "markdown",
      "metadata": {
        "id": "ks1McrggynOP"
      },
      "source": [
        "### Bar plots\n",
        "\n",
        "For our next example, we will plot vertical bars to compare monthly TSA traveler throughput across years. Let's start by creating a pivot table with the information we need:"
      ]
    },
    {
      "cell_type": "code",
      "execution_count": null,
      "metadata": {
        "id": "oEoTuAV6ynOP"
      },
      "outputs": [],
      "source": []
    },
    {
      "cell_type": "markdown",
      "metadata": {
        "id": "lU7SzfTmynOP"
      },
      "source": [
        "Pandas offers other plot types via the `kind` parameter, so we specify `kind='bar'` when calling the `plot()` method. Then, we further format the visualization using the `Axes` object returned by the `plot()` method:"
      ]
    },
    {
      "cell_type": "code",
      "execution_count": null,
      "metadata": {
        "id": "WgeYeaZKynOP"
      },
      "outputs": [],
      "source": [
        "#bar plot"
      ]
    },
    {
      "cell_type": "markdown",
      "metadata": {
        "id": "YzrnPkL0ynOQ"
      },
      "source": [
        "Some additional things to keep in mind:\n",
        "- Matplotlib's `ticker` module provides functionality for customizing both the tick labels and locations &ndash; check out the [documentation](https://matplotlib.org/stable/api/ticker_api.html) for more information.\n",
        "- Pandas supports horizontal and stacked bars as well; [this](https://medium.com/@stefaniemolin/how-to-pivot-and-plot-data-with-pandas-9450939fcf8) blog post shows how to make stacked horizontal bars using a pivot table.\n",
        "- The `plot()` method takes a lot of [parameters](https://pandas.pydata.org/pandas-docs/stable/reference/api/pandas.DataFrame.plot.html), many of which get passed down to Matplotlib; however, sometimes we need to use Matplotlib calls directly."
      ]
    },
    {
      "cell_type": "markdown",
      "metadata": {
        "id": "NHPLi_yVynOQ"
      },
      "source": [
        "### Plotting distributions\n",
        "\n",
        "Let's now compare the distribution of daily TSA traveler throughput across years. We will create a subplot for each year with both a histogram and a kernel density estimate (KDE) of the distribution.  Pandas has generated the `Figure` and `Axes` objects for both examples so far, but we can build custom layouts by creating them ourselves with Matplotlib using the `plt.subplots()` function. First, we will need to import the `pyplot` module:"
      ]
    },
    {
      "cell_type": "code",
      "execution_count": null,
      "metadata": {
        "id": "sSIWZhh4ynOQ"
      },
      "outputs": [],
      "source": [
        "# import pyplot"
      ]
    },
    {
      "cell_type": "markdown",
      "metadata": {
        "id": "Nqx6M9VWynOQ"
      },
      "source": [
        "While pandas lets us specify that we want subplots and their layout (with the `subplots` and `layout` parameters, respectively), using Matplotlib to create the subplots directly gives us additional flexibility:"
      ]
    },
    {
      "cell_type": "code",
      "execution_count": null,
      "metadata": {
        "id": "QTdtPYsTynOQ"
      },
      "outputs": [],
      "source": [
        "# multiple histograms, tight layout"
      ]
    },
    {
      "cell_type": "markdown",
      "metadata": {
        "id": "bG6ZMIQFynOQ"
      },
      "source": [
        "*Tip: If you're new to the `zip()` function, check out [this](https://realpython.com/python-zip-function/) article.*"
      ]
    },
    {
      "cell_type": "markdown",
      "metadata": {
        "id": "q7B8XlODynOQ"
      },
      "source": [
        "### Stop here\n",
        "\n",
        "Complete [Exercise 3.1](./week1-lab2-intro-to-pandas.ipynb#Exercise-3.1)"
      ]
    },
    {
      "cell_type": "markdown",
      "metadata": {
        "id": "dVPb8lg7ynOQ"
      },
      "source": [
        "## Plotting with Seaborn\n",
        "\n",
        "The Seaborn library provides the means to easily visualize long-format data without first pivoting it. In addition, it also offers some additional plot types &ndash; once again building on top of Mtplotlib. Here, we will look at a few examples of visualizations we can create with Seaborn."
      ]
    },
    {
      "cell_type": "markdown",
      "metadata": {
        "id": "IydYpiJuynOR"
      },
      "source": [
        "### Visualizing long-format data\n",
        "\n",
        "With Seaborn, we can specify plot colors according to values of a column with the `hue` parameter. When working with functions that generate subplots, we can also specify how to split the subplots by values of a long-format column with the `col` and `row` parameters. Here, we revisit the comparison of the distribution of TSA traveler throughput across years:"
      ]
    },
    {
      "cell_type": "code",
      "execution_count": null,
      "metadata": {
        "id": "KTXTW3CmynOR"
      },
      "outputs": [],
      "source": [
        "#using seaborn"
      ]
    },
    {
      "cell_type": "markdown",
      "metadata": {
        "id": "UhZ9yn-WynOT"
      },
      "source": [
        "### Heatmaps\n",
        "We can also use Seaborn to visualize pivot tables as heatmaps:"
      ]
    },
    {
      "cell_type": "code",
      "execution_count": null,
      "metadata": {
        "id": "sqk1n4GmynOT"
      },
      "outputs": [],
      "source": [
        "#pivot data"
      ]
    },
    {
      "cell_type": "code",
      "execution_count": null,
      "metadata": {
        "id": "eoFKDNxYynOT"
      },
      "outputs": [],
      "source": [
        "# heatmap"
      ]
    },
    {
      "cell_type": "markdown",
      "metadata": {
        "id": "LN0X7wetynOT"
      },
      "source": [
        "*Tip: Reference the Matplotlib documentation for more information on [colormaps](https://matplotlib.org/stable/tutorials/colors/colormaps.html) and [named colors](https://matplotlib.org/stable/gallery/color/named_colors.html).*"
      ]
    },
    {
      "cell_type": "markdown",
      "metadata": {
        "id": "DnRkNWL-ynOT"
      },
      "source": [
        "We're moving on from Seaborn now, but there is a lot more available in the [API](https://seaborn.pydata.org/api.html). Be sure to check out the following at a minimum:\n",
        "- [pairwise plots](https://seaborn.pydata.org/generated/seaborn.pairplot.html#seaborn.pairplot) with `pairplot()`\n",
        "- [categorical scatter plots](https://seaborn.pydata.org/generated/seaborn.swarmplot.html#seaborn.swarmplot) with `swarmplot()`\n",
        "- [joint distribution plots](https://seaborn.pydata.org/generated/seaborn.jointplot.html#seaborn.jointplot) with `jointplot()`\n",
        "- [FacetGrids](https://seaborn.pydata.org/generated/seaborn.FacetGrid.html#seaborn.FacetGrid) for custom layouts with any plot type"
      ]
    },
    {
      "cell_type": "markdown",
      "metadata": {
        "id": "5mup_hC7ynOT"
      },
      "source": [
        "### Stop here!\n",
        "\n",
        "Complete [Exercise 3.2](./week1-lab2-intro-to-pandas.ipynb#Exercise-3.2)\n"
      ]
    },
    {
      "cell_type": "markdown",
      "metadata": {
        "id": "kwwpaRwEynOU"
      },
      "source": [
        "## Customizing plots with Matplotlib\n",
        "\n",
        "In this final section, we will discuss how to use Matplotlib to customize plots. Since there is a lot of functionality available, we will only be covering how to add shaded regions and annotations here, but be sure to check out the [documentation](https://matplotlib.org/) for more."
      ]
    },
    {
      "cell_type": "markdown",
      "metadata": {
        "id": "b9KDCeaLynOU"
      },
      "source": [
        "### Adding shaded regions\n",
        "\n",
        "When looking at a plot of TSA traveler throughput over time, it's helpful to indicate periods during which there was holiday travel. We can do so with the `axvspan()` method:"
      ]
    },
    {
      "cell_type": "code",
      "execution_count": null,
      "metadata": {
        "id": "ApvJkZ3GynOU"
      },
      "outputs": [],
      "source": [
        "# time series with shaded regions"
      ]
    },
    {
      "cell_type": "markdown",
      "metadata": {
        "id": "xnWqfbAkynOU"
      },
      "source": [
        "*Tip: Use `axhspan()` for horizontally shaded regions and `axvline()` / `axhline()` for vertical/horizontal reference lines.*"
      ]
    },
    {
      "cell_type": "markdown",
      "metadata": {
        "id": "i5wgV77XynOU"
      },
      "source": [
        "### Adding annotations\n",
        "\n",
        "We can use the `annotate()` method to add annotations to the plot. Here, we point out the day in 2019 with the highest TSA traveler throughput, which was the day after Thanksgiving:"
      ]
    },
    {
      "cell_type": "code",
      "execution_count": null,
      "metadata": {
        "id": "RNHcpAinynOU"
      },
      "outputs": [],
      "source": [
        "# add annotations"
      ]
    },
    {
      "cell_type": "markdown",
      "metadata": {
        "id": "Ia0yAZzvynOV"
      },
      "source": [
        "Some things to keep in mind:\n",
        "- We used `Axes` methods to customize our plots (i.e., an object-oriented approach), but the `pyplot` module provides equivalent functions (i.e., a functional approach) for adding shaded regions, reference lines, annotations, etc. &ndash; although the function names might be slightly different than their `Axes` method counterparts (e.g., `Axes.set_xlabel()` vs. `plt.xlabel()`).\n",
        "- In general, try to stick to either the object-oriented or functional approach rather than mixing the two. However, be careful when working with subplots &ndash; `pyplot` functions will only affect the last subplot.\n",
        "- The [anatomy of a figure](https://matplotlib.org/stable/gallery/showcase/anatomy.html) diagram in the Matplotlib documentation is a great resource for identifying which objects you will need to access for plot customizations."
      ]
    },
    {
      "cell_type": "markdown",
      "metadata": {
        "id": "TH7TMe_synOV"
      },
      "source": [
        "### Stop here!\n",
        "\n",
        "Complete [Exercise 3.3](./week1-lab2-intro-to-pandas.ipynb#Exercise-3.3)\n"
      ]
    },
    {
      "cell_type": "markdown",
      "metadata": {
        "id": "QwEOVBFTynOV"
      },
      "source": []
    }
  ],
  "metadata": {
    "language_info": {
      "name": "python"
    },
    "orig_nbformat": 4,
    "colab": {
      "provenance": []
    },
    "kernelspec": {
      "name": "python3",
      "display_name": "Python 3"
    }
  },
  "nbformat": 4,
  "nbformat_minor": 0
}