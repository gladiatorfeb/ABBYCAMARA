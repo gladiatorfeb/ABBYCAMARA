{
  "nbformat": 4,
  "nbformat_minor": 0,
  "metadata": {
    "colab": {
      "provenance": [],
      "include_colab_link": true
    },
    "kernelspec": {
      "name": "python3",
      "display_name": "Python 3"
    },
    "language_info": {
      "name": "python"
    }
  },
  "cells": [
    {
      "cell_type": "markdown",
      "metadata": {
        "id": "view-in-github",
        "colab_type": "text"
      },
      "source": [
        "<a href=\"https://colab.research.google.com/github/gladiatorfeb/ABBYCAMARA/blob/main/HelloWorld.ipynb\" target=\"_parent\"><img src=\"https://colab.research.google.com/assets/colab-badge.svg\" alt=\"Open In Colab\"/></a>"
      ]
    },
    {
      "cell_type": "markdown",
      "source": [
        "# Hello World!\n",
        "\n",
        "Run the following cell and save the result!  Once you are done, commit and push your code."
      ],
      "metadata": {
        "id": "-KrQ1Wlkop1U"
      }
    },
    {
      "cell_type": "code",
      "execution_count": null,
      "metadata": {
        "id": "QrXh7AexlySj"
      },
      "outputs": [],
      "source": [
        "import numpy as np\n",
        "import pandas as pd\n",
        "import matplotlib.pyplot as plt\n",
        "import seaborn as sns\n",
        "from scipy.stats import linregress\n",
        "\n",
        "# Generate sample data\n",
        "np.random.seed(42)\n",
        "height = np.random.normal(170, 10, 100)  # Average height 170 cm with standard deviation of 10 cm\n",
        "error = np.random.normal(0, 5, 100)  # Some noise\n",
        "weight = 0.6 * height - 50 + error  # Derived weight with a bit of noise\n",
        "\n",
        "# Create dataframe\n",
        "df = pd.DataFrame({'height': height, 'weight': weight})\n",
        "\n",
        "# Linear regression\n",
        "slope, intercept, r_value, p_value, std_err = linregress(df['height'], df['weight'])\n",
        "\n",
        "# Plot\n",
        "plt.figure(figsize=(10,6))\n",
        "sns.scatterplot(x='height', y='weight', data=df)\n",
        "plt.plot(df['height'], slope*df['height'] + intercept, color='red')  # Best fit line\n",
        "plt.title(f'Height vs Weight (R={r_value:.2f})')\n",
        "plt.xlabel('Height (cm)')\n",
        "plt.ylabel('Weight (kg)')\n",
        "plt.grid(True)\n",
        "plt.tight_layout()\n",
        "plt.show()"
      ]
    }
  ]
}